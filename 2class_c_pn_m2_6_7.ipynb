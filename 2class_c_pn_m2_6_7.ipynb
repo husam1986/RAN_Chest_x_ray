{
  "cells": [
    {
      "cell_type": "markdown",
      "metadata": {
        "id": "view-in-github",
        "colab_type": "text"
      },
      "source": [
        "<a href=\"https://colab.research.google.com/github/husam1986/RAN_Chest_x_ray/blob/main/2class_c_pn_m2_6_7.ipynb\" target=\"_parent\"><img src=\"https://colab.research.google.com/assets/colab-badge.svg\" alt=\"Open In Colab\"/></a>"
      ]
    },
    {
      "cell_type": "markdown",
      "metadata": {
        "id": "bG6KyHQThHAg"
      },
      "source": [
        "# **Husam Imad AbdulRazzaq**\n",
        "\n",
        "2 classes _ classify   c & p n   method2 6/7\n",
        "\n",
        "new code for RAN\n",
        "\n",
        "ref:\n",
        "https://github.com/Jay4869/Deep-Learning\n",
        "\n",
        "https://github.com/husam1986/RAN_Chest_x_ray\n",
        "\n",
        "https://www.kaggle.com/code/ankan1998/covid19-detection-using-tensorflow-from-chest-xray\n"
      ]
    },
    {
      "cell_type": "markdown",
      "metadata": {
        "id": "Ro8dPQOTjusJ"
      },
      "source": [
        "intialize"
      ]
    },
    {
      "cell_type": "code",
      "execution_count": null,
      "metadata": {
        "id": "NnUjgvtZj86d"
      },
      "outputs": [],
      "source": [
        "import tensorflow as tf\n",
        "\n",
        "from tensorflow.keras.layers import Conv2D\n",
        "from tensorflow.keras.layers import UpSampling2D\n",
        "from tensorflow.keras.layers import MaxPooling2D\n",
        "from tensorflow.keras.layers import Add\n",
        "from tensorflow.keras.layers import Activation\n",
        "from tensorflow.keras.layers import Lambda\n",
        "from tensorflow.keras.layers import Multiply\n",
        "\n",
        "from tensorflow.keras.layers import Input\n",
        "from tensorflow.keras.regularizers import l2\n",
        "from tensorflow.keras.layers import BatchNormalization\n",
        "from tensorflow.keras.layers import AveragePooling2D\n",
        "\n",
        "from tensorflow.keras.layers import Flatten\n",
        "from tensorflow.keras.layers import Dropout\n",
        "from tensorflow.keras.layers import Dense\n",
        "from tensorflow.keras.models import Model\n",
        "\n",
        "import numpy as np\n",
        "import matplotlib.pyplot as plt\n",
        "import skimage.transform\n",
        "import time, os, datetime\n",
        "import pandas as pd\n",
        "import seaborn as sns\n",
        "sns.set_style('darkgrid')\n",
        "\n",
        "import os\n",
        "import random\n",
        "\n",
        "import warnings\n",
        "warnings.filterwarnings('ignore')\n",
        "\n",
        "from sklearn.model_selection import train_test_split\n",
        "\n",
        "from tensorflow.keras.utils import to_categorical\n",
        "from tensorflow.keras.preprocessing.image import load_img\n",
        "from tensorflow.keras.preprocessing.image import img_to_array\n",
        "from tensorflow.keras.preprocessing.image import ImageDataGenerator\n",
        "from tensorflow.keras.optimizers import Adam, SGD\n",
        "from tensorflow.keras.callbacks import ReduceLROnPlateau, EarlyStopping,TensorBoard, LearningRateScheduler\n",
        "from tensorflow.keras.models import load_model\n"
      ]
    },
    {
      "cell_type": "markdown",
      "metadata": {
        "id": "dMGZW6F4ila4"
      },
      "source": [
        "1- Residual_Unit"
      ]
    },
    {
      "cell_type": "code",
      "execution_count": null,
      "metadata": {
        "id": "fzJ6r4MxhEc8"
      },
      "outputs": [],
      "source": [
        "\n",
        "\"\"\"\n",
        "Residual Unit is implemented above proposed Residual Block\n",
        "input >> BN >> ReLU >> Conv2DLayer(1,1)\n",
        "      >> BN >> ReLU >> Conv2DLayer(3,3)\n",
        "      >> BN >> ReLU >> Conv2DLayer(1,1) + identify\n",
        "      >> output\n",
        "\"\"\"\n",
        "\n",
        "def Residual_Unit(input, in_channel, out_channel, stride=1):\n",
        "\n",
        "    \"\"\"\n",
        "    :param input: The input of the Residual_Unit. Should be a 4D array like (batch_num, img_len, img_len, channel_num)\n",
        "    :param in_channel: The 4-th dimension (channel number) of input matrix. For example, in_channel=3 means the input contains 3 channels.\n",
        "    :param out_channel: The 4-th dimension (channel number) of output matrix. For example, out_channel=5 means the output contains 5 channels (feature maps).\n",
        "    :param stride: Integer. The number of pixels to move between 2 neighboring receptive fields.\n",
        "    \"\"\"\n",
        "\n",
        "    # initialize as the input (identity) data\n",
        "    shortcut = input\n",
        "    shortcut = Conv2D(out_channel, (1, 1), padding='same', strides=stride)(shortcut)\n",
        "\n",
        "    # RestNet module\n",
        "    x = BatchNormalization()(input)\n",
        "    x = Activation('relu')(x)\n",
        "    x = Conv2D(in_channel, (1, 1))(x)\n",
        "\n",
        "    x = BatchNormalization()(x)\n",
        "    x = Activation('relu')(x)\n",
        "    x = Conv2D(in_channel, (3, 3), padding='same', strides=stride)(x)\n",
        "\n",
        "    x = BatchNormalization()(x)\n",
        "    x = Activation('relu')(x)\n",
        "    x = Conv2D(out_channel, (1, 1), padding='same')(x)\n",
        "\n",
        "    # identity\n",
        "    x = Add()([x, shortcut])\n",
        "\n",
        "    return x"
      ]
    },
    {
      "cell_type": "markdown",
      "metadata": {
        "id": "ovLfBAHJjLTH"
      },
      "source": [
        "2- Attention_Block"
      ]
    },
    {
      "cell_type": "code",
      "execution_count": null,
      "metadata": {
        "id": "0mKsGr7rjPBt"
      },
      "outputs": [],
      "source": [
        "\n",
        "\n",
        "def Attention_Block(input, skip):\n",
        "\n",
        "    \"\"\"\n",
        "    :param input: The input of the Residual_Unit. Should be a 4D array like (batch_num, img_len, img_len, channel_num)\n",
        "    :param in_channel: The 4-th dimension (channel number) of input matrix. For example, in_channel=3 means the input contains 3 channels.\n",
        "    \"\"\"\n",
        "\n",
        "    # initial Attention Module parameters\n",
        "    p = 1\n",
        "    t = 2\n",
        "    r = 1\n",
        "    skip_connections = []\n",
        "    # calculate input and output channel based on previous layers\n",
        "    in_channel = input.shape[-1]\n",
        "    out_channel = in_channel\n",
        "\n",
        "    # pre-activation Residual Unit\n",
        "    for _ in range(p):\n",
        "        x = Residual_Unit(input, in_channel, out_channel)\n",
        "\n",
        "    # Trunk Branch\n",
        "    for _ in range(t):\n",
        "        Trunck_output = Residual_Unit(x, in_channel, out_channel)\n",
        "\n",
        "    # Soft Mask Branch\n",
        "    ## 1st down sampling\n",
        "    x = MaxPooling2D(padding='same')(x)\n",
        "    for _ in range(r):\n",
        "        x = Residual_Unit(x, in_channel, out_channel)\n",
        "\n",
        "    if x.shape[1] % 4 == 0:\n",
        "        for i in range(skip-1):\n",
        "            ## skip connections\n",
        "            skip_connections.append(Residual_Unit(x, in_channel, out_channel))\n",
        "\n",
        "            ## 2rd down sampling\n",
        "            x = MaxPooling2D(padding='same')(x)\n",
        "            for _ in range(r):\n",
        "                x = Residual_Unit(x, in_channel, out_channel)\n",
        "\n",
        "        skip_connections = list(reversed(skip_connections))\n",
        "\n",
        "        for i in range(skip-1):\n",
        "            ## 1st up sampling\n",
        "            for _ in range(r):\n",
        "                x = Residual_Unit(x, in_channel, out_channel)\n",
        "            x = UpSampling2D()(x)\n",
        "\n",
        "            # skip connections\n",
        "            x = Add()([x, skip_connections[i]])\n",
        "\n",
        "    ## 2rd up samplping\n",
        "    for i in range(r):\n",
        "        x = Residual_Unit(x, in_channel, out_channel)\n",
        "    x = UpSampling2D()(x)\n",
        "\n",
        "    ## output\n",
        "    x = Conv2D(out_channel, (1, 1))(x)\n",
        "    x = Conv2D(out_channel, (1, 1))(x)\n",
        "    soft_mask_output = Activation('sigmoid')(x)\n",
        "\n",
        "    # Attention: (1 + soft_mask_output) * Trunck_output\n",
        "    soft_mask_output = Lambda(lambda x: x + 1)(soft_mask_output)\n",
        "    output = Multiply()([soft_mask_output, Trunck_output])\n",
        "\n",
        "    # Last Residual Block\n",
        "    for i in range(p):\n",
        "        output = Residual_Unit(output, in_channel, out_channel)\n",
        "\n",
        "    return output\n"
      ]
    },
    {
      "cell_type": "markdown",
      "metadata": {
        "id": "mGPS8Q4LkCNU"
      },
      "source": [
        "*3*- AttentionResNet56"
      ]
    },
    {
      "cell_type": "code",
      "execution_count": null,
      "metadata": {
        "id": "BN8_p0x0kdVc"
      },
      "outputs": [],
      "source": [
        "def AttentionResNet56(shape, in_channel, kernel_size, n_classes, dropout=None, regularization=0.01):\n",
        "\n",
        "    \"\"\"\n",
        "    :param shape: The tuple of input data.\n",
        "    :param in_channel: The 4-th dimension (channel number) of input weight matrix. For example, in_channel=3 means the input contains 3 channels.\n",
        "    :param kernel_size: Integer. the shape of the kernel. For example, default kernel_size = 3 means you have a 3*3 kernel.\n",
        "    :param n_classes: Integer. The number of target classes. For example, n_classes = 10 means you have 10 class labels.\n",
        "    :param dropout: Float between 0 and 1. Fraction of the input units to drop.\n",
        "    :param regularization: Float. Fraction of the input units to drop.\n",
        "    \"\"\"\n",
        "    input_data = Input(shape=shape)  # 512x512x2\n",
        "    x = Conv2D(in_channel, kernel_size=kernel_size, padding='same')(input_data)  # 256x256x32\n",
        "    x = MaxPooling2D(pool_size=2, padding='same')(x)  # 256x256x32\n",
        "\n",
        "    x = Attention_Block(x, skip=1)\n",
        "    out_channel = in_channel * 2  # 64\n",
        "    x = Residual_Unit(x, in_channel, out_channel)  # 256x256x64\n",
        "    x = MaxPooling2D(pool_size=2, padding='same')(x)  # 128x128x64\n",
        "\n",
        "    \"\"\"in_channel=out_channel\n",
        "    out_channel = in_channel * 2 # 128\n",
        "    x = Residual_Unit(x, in_channel, out_channel)  # 64x64x128\n",
        "    x = MaxPooling2D(pool_size=2, padding='same')(x)  # 32x32x128\n",
        "\"\"\"\n",
        "    x = Attention_Block(x, skip=1)\n",
        "\n",
        "    in_channel=out_channel\n",
        "    out_channel = in_channel * 2 # 128\n",
        "    x = Residual_Unit(x, in_channel, out_channel)  # 128x128x128\n",
        "    x = MaxPooling2D(pool_size=2, padding='same')(x)  # 64x64x128\n",
        "\n",
        "    x = Attention_Block(x, skip=1)\n",
        "    x = MaxPooling2D(pool_size=2, padding='same')(x)  # 32x32x128\n",
        "\n",
        "    in_channel=out_channel\n",
        "    out_channel = in_channel * 2  # 256\n",
        "    x = Residual_Unit(x, in_channel, out_channel)  # 32x32x256\n",
        "    x =  MaxPooling2D(pool_size=2, padding='same')(x)  # 16x16x256\n",
        "\n",
        "    in_channel=out_channel\n",
        "    out_channel = in_channel * 2\n",
        "    x = Residual_Unit(x, in_channel, out_channel)  # 16x16x512\n",
        "    x = MaxPooling2D(pool_size=2, padding='same')(x)  # 8x8x512\n",
        "\n",
        "    in_channel=out_channel\n",
        "    x = Residual_Unit(x, in_channel, out_channel)  # 8x8x512\n",
        "    x = MaxPooling2D(pool_size=2, padding='same')(x)  # 4x4x512\n",
        "\n",
        "    x = Residual_Unit(x, in_channel, out_channel)  # 4x4x512\n",
        "    x = MaxPooling2D(pool_size=2, padding='same')(x)  # 2x2x512\n",
        "    x = Flatten()(x) #\n",
        "\n",
        "    output = Dense(n_classes, kernel_regularizer=l2(regularization), activation='softmax')(x)\n",
        "    model = Model(input_data, output)\n",
        "\n",
        "    return model"
      ]
    },
    {
      "cell_type": "markdown",
      "metadata": {
        "id": "xs23q1sFbAsI"
      },
      "source": [
        "4-1 hardwer info"
      ]
    },
    {
      "cell_type": "code",
      "execution_count": null,
      "metadata": {
        "colab": {
          "base_uri": "https://localhost:8080/"
        },
        "id": "l7Ya_vAy2IZC",
        "outputId": "283e3ba5-78f4-4057-cf97-1640d49058c7"
      },
      "outputs": [
        {
          "output_type": "stream",
          "name": "stdout",
          "text": [
            "Fri Jul  7 16:30:02 2023       \n",
            "+-----------------------------------------------------------------------------+\n",
            "| NVIDIA-SMI 525.85.12    Driver Version: 525.85.12    CUDA Version: 12.0     |\n",
            "|-------------------------------+----------------------+----------------------+\n",
            "| GPU  Name        Persistence-M| Bus-Id        Disp.A | Volatile Uncorr. ECC |\n",
            "| Fan  Temp  Perf  Pwr:Usage/Cap|         Memory-Usage | GPU-Util  Compute M. |\n",
            "|                               |                      |               MIG M. |\n",
            "|===============================+======================+======================|\n",
            "|   0  Tesla T4            Off  | 00000000:00:04.0 Off |                    0 |\n",
            "| N/A   35C    P8     9W /  70W |      0MiB / 15360MiB |      0%      Default |\n",
            "|                               |                      |                  N/A |\n",
            "+-------------------------------+----------------------+----------------------+\n",
            "                                                                               \n",
            "+-----------------------------------------------------------------------------+\n",
            "| Processes:                                                                  |\n",
            "|  GPU   GI   CI        PID   Type   Process name                  GPU Memory |\n",
            "|        ID   ID                                                   Usage      |\n",
            "|=============================================================================|\n",
            "|  No running processes found                                                 |\n",
            "+-----------------------------------------------------------------------------+\n",
            "Your runtime has 13.6 gigabytes of available RAM\n",
            "\n",
            "Not using a high-RAM runtime\n",
            "TF version:  2.12.0\n",
            "Keras version: 2.12.0\n"
          ]
        }
      ],
      "source": [
        "gpu_info = !nvidia-smi\n",
        "gpu_info = '\\n'.join(gpu_info)\n",
        "if gpu_info.find('failed') >= 0:\n",
        "  print('Not connected to a GPU')\n",
        "else:\n",
        "  print(gpu_info)\n",
        "\n",
        "  from psutil import virtual_memory\n",
        "ram_gb = virtual_memory().total / 1e9\n",
        "print('Your runtime has {:.1f} gigabytes of available RAM\\n'.format(ram_gb))\n",
        "\n",
        "if ram_gb < 20:\n",
        "  print('Not using a high-RAM runtime')\n",
        "else:\n",
        "  print('You are using a high-RAM runtime!')\n",
        "\n",
        "\n",
        "\n",
        "print(\"TF version: \",tf.__version__)\n",
        "print(\"Keras version:\",tf.keras.__version__)"
      ]
    },
    {
      "cell_type": "markdown",
      "metadata": {
        "id": "EMJQ-yjzXwZ4"
      },
      "source": [
        "Extracting Files"
      ]
    },
    {
      "cell_type": "code",
      "execution_count": null,
      "metadata": {
        "id": "NsGMjQURXy54"
      },
      "outputs": [],
      "source": [
        "c_tr = '/content/drive/Othercomputers/Hp8570/GoogleDrive_Hp8570/AI Work/COVID-19 Radiography Database/COVID-19_Radiography_Dataset/COVID/images'\n",
        "n_tr = '/content/drive/Othercomputers/Hp8570/GoogleDrive_Hp8570/AI Work/COVID-19 Radiography Database/COVID-19_Radiography_Dataset/Normal/images'\n",
        "p_tr = '/content/drive/Othercomputers/Hp8570/GoogleDrive_Hp8570/AI Work/COVID-19 Radiography Database/COVID-19_Radiography_Dataset/Viral Pneumonia/images'\n",
        "\n",
        "c_vld = '/content/drive/Othercomputers/Hp8570/GoogleDrive_Hp8570/AI Work/COVID-19 Radiography Database/COVID-19_Radiography_Dataset/COVID/out'\n",
        "n_vld = '/content/drive/Othercomputers/Hp8570/GoogleDrive_Hp8570/AI Work/COVID-19 Radiography Database/COVID-19_Radiography_Dataset/Normal/out'\n",
        "p_vld = '/content/drive/Othercomputers/Hp8570/GoogleDrive_Hp8570/AI Work/COVID-19 Radiography Database/COVID-19_Radiography_Dataset/Viral Pneumonia/out'"
      ]
    },
    {
      "cell_type": "code",
      "execution_count": null,
      "metadata": {
        "id": "TTo7oz93YV_J"
      },
      "outputs": [],
      "source": [
        "random.seed(42) #edit\n",
        "C_filenames_train = os.listdir(c_tr)[1:1100]\n",
        "P_filenames_train = os.listdir(p_tr)[1:550]\n",
        "N_filenames_train = os.listdir(n_tr)[1:550]\n",
        "\n",
        "C_filenames_validation = os.listdir(c_vld)[1:245]\n",
        "P_filenames_validation = os.listdir(p_vld)[1:123]\n",
        "N_filenames_validation = os.listdir(n_vld)[1:123]\n"
      ]
    },
    {
      "cell_type": "markdown",
      "metadata": {
        "id": "ykyrOxHVYanY"
      },
      "source": []
    },
    {
      "cell_type": "code",
      "execution_count": null,
      "metadata": {
        "id": "lq39A1N5YkRe"
      },
      "outputs": [],
      "source": [
        "c_Zeros_tr = []\n",
        "for filename in C_filenames_train:\n",
        "    c_Zeros_tr.append(str(0))\n",
        "p_Oness_tr = []\n",
        "for filename in P_filenames_train:\n",
        "    p_Oness_tr.append(str(1))\n",
        "    p_Oness_tr.append(str(1))\n",
        "\n",
        "c_Zeros_vld = []\n",
        "for filename in C_filenames_validation:\n",
        "    c_Zeros_vld.append(str(0))\n",
        "p_Oness_vld = []\n",
        "for filename in P_filenames_validation:\n",
        "    p_Oness_vld.append(str(1))\n",
        "    p_Oness_vld.append(str(1))\n"
      ]
    },
    {
      "cell_type": "markdown",
      "metadata": {
        "id": "JAPF5um-Yqdy"
      },
      "source": [
        "Converting to Dataframe"
      ]
    },
    {
      "cell_type": "code",
      "execution_count": null,
      "metadata": {
        "colab": {
          "base_uri": "https://localhost:8080/",
          "height": 206
        },
        "id": "v6iTUP_oYrgu",
        "outputId": "7b20d187-adf3-4e28-ed53-e98b9829a2ff"
      },
      "outputs": [
        {
          "output_type": "execute_result",
          "data": {
            "text/plain": [
              "                                            filename category\n",
              "0  /content/drive/Othercomputers/Hp8570/GoogleDri...        0\n",
              "1  /content/drive/Othercomputers/Hp8570/GoogleDri...        0\n",
              "2  /content/drive/Othercomputers/Hp8570/GoogleDri...        0\n",
              "3  /content/drive/Othercomputers/Hp8570/GoogleDri...        0\n",
              "4  /content/drive/Othercomputers/Hp8570/GoogleDri...        0"
            ],
            "text/html": [
              "\n",
              "  <div id=\"df-a7fa3924-b267-4b0f-ac20-f802d41c3650\">\n",
              "    <div class=\"colab-df-container\">\n",
              "      <div>\n",
              "<style scoped>\n",
              "    .dataframe tbody tr th:only-of-type {\n",
              "        vertical-align: middle;\n",
              "    }\n",
              "\n",
              "    .dataframe tbody tr th {\n",
              "        vertical-align: top;\n",
              "    }\n",
              "\n",
              "    .dataframe thead th {\n",
              "        text-align: right;\n",
              "    }\n",
              "</style>\n",
              "<table border=\"1\" class=\"dataframe\">\n",
              "  <thead>\n",
              "    <tr style=\"text-align: right;\">\n",
              "      <th></th>\n",
              "      <th>filename</th>\n",
              "      <th>category</th>\n",
              "    </tr>\n",
              "  </thead>\n",
              "  <tbody>\n",
              "    <tr>\n",
              "      <th>0</th>\n",
              "      <td>/content/drive/Othercomputers/Hp8570/GoogleDri...</td>\n",
              "      <td>0</td>\n",
              "    </tr>\n",
              "    <tr>\n",
              "      <th>1</th>\n",
              "      <td>/content/drive/Othercomputers/Hp8570/GoogleDri...</td>\n",
              "      <td>0</td>\n",
              "    </tr>\n",
              "    <tr>\n",
              "      <th>2</th>\n",
              "      <td>/content/drive/Othercomputers/Hp8570/GoogleDri...</td>\n",
              "      <td>0</td>\n",
              "    </tr>\n",
              "    <tr>\n",
              "      <th>3</th>\n",
              "      <td>/content/drive/Othercomputers/Hp8570/GoogleDri...</td>\n",
              "      <td>0</td>\n",
              "    </tr>\n",
              "    <tr>\n",
              "      <th>4</th>\n",
              "      <td>/content/drive/Othercomputers/Hp8570/GoogleDri...</td>\n",
              "      <td>0</td>\n",
              "    </tr>\n",
              "  </tbody>\n",
              "</table>\n",
              "</div>\n",
              "      <button class=\"colab-df-convert\" onclick=\"convertToInteractive('df-a7fa3924-b267-4b0f-ac20-f802d41c3650')\"\n",
              "              title=\"Convert this dataframe to an interactive table.\"\n",
              "              style=\"display:none;\">\n",
              "        \n",
              "  <svg xmlns=\"http://www.w3.org/2000/svg\" height=\"24px\"viewBox=\"0 0 24 24\"\n",
              "       width=\"24px\">\n",
              "    <path d=\"M0 0h24v24H0V0z\" fill=\"none\"/>\n",
              "    <path d=\"M18.56 5.44l.94 2.06.94-2.06 2.06-.94-2.06-.94-.94-2.06-.94 2.06-2.06.94zm-11 1L8.5 8.5l.94-2.06 2.06-.94-2.06-.94L8.5 2.5l-.94 2.06-2.06.94zm10 10l.94 2.06.94-2.06 2.06-.94-2.06-.94-.94-2.06-.94 2.06-2.06.94z\"/><path d=\"M17.41 7.96l-1.37-1.37c-.4-.4-.92-.59-1.43-.59-.52 0-1.04.2-1.43.59L10.3 9.45l-7.72 7.72c-.78.78-.78 2.05 0 2.83L4 21.41c.39.39.9.59 1.41.59.51 0 1.02-.2 1.41-.59l7.78-7.78 2.81-2.81c.8-.78.8-2.07 0-2.86zM5.41 20L4 18.59l7.72-7.72 1.47 1.35L5.41 20z\"/>\n",
              "  </svg>\n",
              "      </button>\n",
              "      \n",
              "  <style>\n",
              "    .colab-df-container {\n",
              "      display:flex;\n",
              "      flex-wrap:wrap;\n",
              "      gap: 12px;\n",
              "    }\n",
              "\n",
              "    .colab-df-convert {\n",
              "      background-color: #E8F0FE;\n",
              "      border: none;\n",
              "      border-radius: 50%;\n",
              "      cursor: pointer;\n",
              "      display: none;\n",
              "      fill: #1967D2;\n",
              "      height: 32px;\n",
              "      padding: 0 0 0 0;\n",
              "      width: 32px;\n",
              "    }\n",
              "\n",
              "    .colab-df-convert:hover {\n",
              "      background-color: #E2EBFA;\n",
              "      box-shadow: 0px 1px 2px rgba(60, 64, 67, 0.3), 0px 1px 3px 1px rgba(60, 64, 67, 0.15);\n",
              "      fill: #174EA6;\n",
              "    }\n",
              "\n",
              "    [theme=dark] .colab-df-convert {\n",
              "      background-color: #3B4455;\n",
              "      fill: #D2E3FC;\n",
              "    }\n",
              "\n",
              "    [theme=dark] .colab-df-convert:hover {\n",
              "      background-color: #434B5C;\n",
              "      box-shadow: 0px 1px 3px 1px rgba(0, 0, 0, 0.15);\n",
              "      filter: drop-shadow(0px 1px 2px rgba(0, 0, 0, 0.3));\n",
              "      fill: #FFFFFF;\n",
              "    }\n",
              "  </style>\n",
              "\n",
              "      <script>\n",
              "        const buttonEl =\n",
              "          document.querySelector('#df-a7fa3924-b267-4b0f-ac20-f802d41c3650 button.colab-df-convert');\n",
              "        buttonEl.style.display =\n",
              "          google.colab.kernel.accessAllowed ? 'block' : 'none';\n",
              "\n",
              "        async function convertToInteractive(key) {\n",
              "          const element = document.querySelector('#df-a7fa3924-b267-4b0f-ac20-f802d41c3650');\n",
              "          const dataTable =\n",
              "            await google.colab.kernel.invokeFunction('convertToInteractive',\n",
              "                                                     [key], {});\n",
              "          if (!dataTable) return;\n",
              "\n",
              "          const docLinkHtml = 'Like what you see? Visit the ' +\n",
              "            '<a target=\"_blank\" href=https://colab.research.google.com/notebooks/data_table.ipynb>data table notebook</a>'\n",
              "            + ' to learn more about interactive tables.';\n",
              "          element.innerHTML = '';\n",
              "          dataTable['output_type'] = 'display_data';\n",
              "          await google.colab.output.renderOutput(dataTable, element);\n",
              "          const docLink = document.createElement('div');\n",
              "          docLink.innerHTML = docLinkHtml;\n",
              "          element.appendChild(docLink);\n",
              "        }\n",
              "      </script>\n",
              "    </div>\n",
              "  </div>\n",
              "  "
            ]
          },
          "metadata": {},
          "execution_count": 9
        }
      ],
      "source": [
        "from posix import remove\n",
        "\"\"\"c\"\"\"\n",
        "for i in range(len(C_filenames_train)):\n",
        "        C_filenames_train[i] = os.path.join(c_tr, C_filenames_train[i])\n",
        "for i in range(len(P_filenames_train)):\n",
        "        P_filenames_train[i] = os.path.join(p_tr, P_filenames_train[i])\n",
        "for i in range(len(N_filenames_train)):\n",
        "        N_filenames_train[i] = os.path.join(n_tr, N_filenames_train[i])\n",
        "\n",
        "for i in range(len(C_filenames_validation)):\n",
        "        C_filenames_validation[i] = os.path.join(c_vld, C_filenames_validation[i])\n",
        "for i in range(len(P_filenames_validation)):\n",
        "        P_filenames_validation[i] = os.path.join(p_vld, P_filenames_validation[i])\n",
        "for i in range(len(N_filenames_validation)):\n",
        "        N_filenames_validation[i] = os.path.join(n_vld, N_filenames_validation[i])\n",
        "\n",
        "df_all_tr = pd.DataFrame({\n",
        "    'filename': C_filenames_train + P_filenames_train + N_filenames_train,\n",
        "    'category': c_Zeros_tr + p_Oness_tr     #edit\n",
        "})\n",
        "\n",
        "df_all_tr.head()\n",
        "\n",
        "df_all_vld = pd.DataFrame({\n",
        "    'filename': C_filenames_validation + P_filenames_validation + N_filenames_validation,\n",
        "    'category': c_Zeros_vld + p_Oness_vld  #edit\n",
        "})\n",
        "\"\"\"df = df_t.sample(frac=1)\"\"\"\n",
        "\n",
        "df_all_vld.head()\n"
      ]
    },
    {
      "cell_type": "markdown",
      "metadata": {
        "id": "RJ0vwvqIY67C"
      },
      "source": [
        "Exploratory Data Analysis"
      ]
    },
    {
      "cell_type": "code",
      "execution_count": null,
      "metadata": {
        "colab": {
          "base_uri": "https://localhost:8080/",
          "height": 448
        },
        "id": "ntYtNmulY7-G",
        "outputId": "aaef3585-2ed0-4ef3-9049-cdefd8bfc41a"
      },
      "outputs": [
        {
          "output_type": "stream",
          "name": "stdout",
          "text": [
            "Training Dataset\n"
          ]
        },
        {
          "output_type": "display_data",
          "data": {
            "text/plain": [
              "<Figure size 1200x200 with 1 Axes>"
            ],
            "image/png": "[encoded data removed]"
          },
          "metadata": {}
        },
        {
          "output_type": "stream",
          "name": "stdout",
          "text": [
            "Validation Dataset\n"
          ]
        },
        {
          "output_type": "display_data",
          "data": {
            "text/plain": [
              "<Figure size 1200x200 with 1 Axes>"
            ],
            "image/png": "[encoded data removed]"
          },
          "metadata": {}
        }
      ],
      "source": [
        "\n",
        "print(\"Training Dataset\")\n",
        "plt.figure(figsize=(12,2))\n",
        "splot = sns.countplot(data = df_all_tr.sort_values(by='category'), y ='category', palette='cool', saturation=0.9)\n",
        "plt.bar_label(container=splot.containers[0],\n",
        "              labels=['COVID', 'Viral Pneumonia + Normal'], #edit\n",
        "              label_type='center', size=15, color='w')\n",
        "plt.show()\n",
        "\n",
        "print(\"Validation Dataset\")\n",
        "plt.figure(figsize=(12,2))\n",
        "splot = sns.countplot(data = df_all_vld.sort_values(by='category'), y ='category', palette='cool', saturation=0.9)\n",
        "plt.bar_label(container=splot.containers[0],\n",
        "              labels=['COVID', 'Viral Pneumonia + Normal'], #edit\n",
        "              label_type='center', size=15, color='w')\n",
        "plt.show()"
      ]
    },
    {
      "cell_type": "markdown",
      "metadata": {
        "id": "z1f3wVp6ZLkG"
      },
      "source": [
        "Data Visualization"
      ]
    },
    {
      "cell_type": "code",
      "execution_count": null,
      "metadata": {
        "colab": {
          "base_uri": "https://localhost:8080/",
          "height": 472
        },
        "id": "57jf9jHMZM5y",
        "outputId": "990395a2-b25b-4fce-9e74-06f6ea082fee"
      },
      "outputs": [
        {
          "output_type": "stream",
          "name": "stdout",
          "text": [
            "/content/drive/Othercomputers/Hp8570/GoogleDrive_Hp8570/AI Work/COVID-19 Radiography Database/COVID-19_Radiography_Dataset/Viral Pneumonia/out/Viral Pneumonia-1194.png\n"
          ]
        },
        {
          "output_type": "display_data",
          "data": {
            "text/plain": [
              "<Figure size 640x480 with 1 Axes>"
            ],
            "image/png": "[encoded data removed]"
          },
          "metadata": {}
        }
      ],
      "source": [
        "\n",
        "sample = random.choice(df_all_vld['filename'])\n",
        "image = load_img(sample)\n",
        "print(sample)\n",
        "plt.imshow(image)\n",
        "plt.show()"
      ]
    },
    {
      "cell_type": "markdown",
      "metadata": {
        "id": "9Var2ZvpZYLd"
      },
      "source": [
        "batchSize"
      ]
    },
    {
      "cell_type": "code",
      "execution_count": null,
      "metadata": {
        "id": "8AZdjJjxZZCw"
      },
      "outputs": [],
      "source": [
        "batchSize = 15\n"
      ]
    },
    {
      "cell_type": "markdown",
      "metadata": {
        "id": "dcI8IuF2Zj-A"
      },
      "source": [
        "no Data Augmentation"
      ]
    },
    {
      "cell_type": "code",
      "execution_count": null,
      "metadata": {
        "id": "K7fPRcYoZk1P"
      },
      "outputs": [],
      "source": [
        "train_data_gen = ImageDataGenerator(\n",
        "    rotation_range=15,\n",
        "    rescale=1./255,\n",
        "    shear_range=0.1,\n",
        "    zoom_range=0.2,\n",
        "    horizontal_flip=True,\n",
        "    width_shift_range=0.1,\n",
        "    height_shift_range=0.1\n",
        ")"
      ]
    },
    {
      "cell_type": "code",
      "execution_count": null,
      "metadata": {
        "colab": {
          "base_uri": "https://localhost:8080/"
        },
        "id": "-TGAaGTuZsGQ",
        "outputId": "a58427e4-2ddd-4c6d-bbc8-656f8d2ea5f8"
      },
      "outputs": [
        {
          "output_type": "stream",
          "name": "stdout",
          "text": [
            "Found 2197 validated image filenames belonging to 2 classes.\n"
          ]
        }
      ],
      "source": [
        "all_train_generator  = train_data_gen.flow_from_dataframe(\n",
        "    df_all_tr,\n",
        "    x_col='filename',\n",
        "    y_col='category',\n",
        "    target_size=(512,512),\n",
        "    class_mode='categorical',\n",
        "    batch_size=batchSize\n",
        ")"
      ]
    },
    {
      "cell_type": "code",
      "execution_count": null,
      "metadata": {
        "colab": {
          "base_uri": "https://localhost:8080/"
        },
        "id": "l2dK6RptZwrT",
        "outputId": "7b756b2e-87fa-4946-b08f-bda6e41aab18"
      },
      "outputs": [
        {
          "output_type": "stream",
          "name": "stdout",
          "text": [
            "Found 488 validated image filenames belonging to 2 classes.\n"
          ]
        }
      ],
      "source": [
        "valid_data_gen = ImageDataGenerator(rescale=1./255)\n",
        "\n",
        "all_valid_generator = valid_data_gen.flow_from_dataframe(\n",
        "    df_all_vld,\n",
        "    x_col='filename',\n",
        "    y_col='category',\n",
        "    target_size=(512,512),\n",
        "    class_mode='categorical',\n",
        "    batch_size=batchSize\n",
        ")"
      ]
    },
    {
      "cell_type": "markdown",
      "metadata": {
        "id": "LqgfCSVFmhnY"
      },
      "source": [
        "7- Set Learning Rate and Optimizer\n"
      ]
    },
    {
      "cell_type": "code",
      "execution_count": null,
      "metadata": {
        "colab": {
          "base_uri": "https://localhost:8080/"
        },
        "id": "El6qDMoymksr",
        "outputId": "e580d771-30d9-4f89-9a5d-56a573fc775d"
      },
      "outputs": [
        {
          "output_type": "stream",
          "name": "stdout",
          "text": [
            "Learning rate: 0.001\n",
            "Model: \"model\"\n",
            "__________________________________________________________________________________________________\n",
            " Layer (type)                   Output Shape         Param #     Connected to                     \n",
            "==================================================================================================\n",
            " input_1 (InputLayer)           [(None, 512, 512, 3  0           []                               \n",
            "                                )]                                                                \n",
            "                                                                                                  \n",
            " conv2d (Conv2D)                (None, 512, 512, 32  896         ['input_1[0][0]']                \n",
            "                                )                                                                 \n",
            "                                                                                                  \n",
            " max_pooling2d (MaxPooling2D)   (None, 256, 256, 32  0           ['conv2d[0][0]']                 \n",
            "                                )                                                                 \n",
            "                                                                                                  \n",
            " batch_normalization (BatchNorm  (None, 256, 256, 32  128        ['max_pooling2d[0][0]']          \n",
            " alization)                     )                                                                 \n",
            "                                                                                                  \n",
            " activation (Activation)        (None, 256, 256, 32  0           ['batch_normalization[0][0]']    \n",
            "                                )                                                                 \n",
            "                                                                                                  \n",
            " conv2d_2 (Conv2D)              (None, 256, 256, 32  1056        ['activation[0][0]']             \n",
            "                                )                                                                 \n",
            "                                                                                                  \n",
            " batch_normalization_1 (BatchNo  (None, 256, 256, 32  128        ['conv2d_2[0][0]']               \n",
            " rmalization)                   )                                                                 \n",
            "                                                                                                  \n",
            " activation_1 (Activation)      (None, 256, 256, 32  0           ['batch_normalization_1[0][0]']  \n",
            "                                )                                                                 \n",
            "                                                                                                  \n",
            " conv2d_3 (Conv2D)              (None, 256, 256, 32  9248        ['activation_1[0][0]']           \n",
            "                                )                                                                 \n",
            "                                                                                                  \n",
            " batch_normalization_2 (BatchNo  (None, 256, 256, 32  128        ['conv2d_3[0][0]']               \n",
            " rmalization)                   )                                                                 \n",
            "                                                                                                  \n",
            " activation_2 (Activation)      (None, 256, 256, 32  0           ['batch_normalization_2[0][0]']  \n",
            "                                )                                                                 \n",
            "                                                                                                  \n",
            " conv2d_4 (Conv2D)              (None, 256, 256, 32  1056        ['activation_2[0][0]']           \n",
            "                                )                                                                 \n",
            "                                                                                                  \n",
            " conv2d_1 (Conv2D)              (None, 256, 256, 32  1056        ['max_pooling2d[0][0]']          \n",
            "                                )                                                                 \n",
            "                                                                                                  \n",
            " add (Add)                      (None, 256, 256, 32  0           ['conv2d_4[0][0]',               \n",
            "                                )                                 'conv2d_1[0][0]']               \n",
            "                                                                                                  \n",
            " max_pooling2d_1 (MaxPooling2D)  (None, 128, 128, 32  0          ['add[0][0]']                    \n",
            "                                )                                                                 \n",
            "                                                                                                  \n",
            " batch_normalization_9 (BatchNo  (None, 128, 128, 32  128        ['max_pooling2d_1[0][0]']        \n",
            " rmalization)                   )                                                                 \n",
            "                                                                                                  \n",
            " activation_9 (Activation)      (None, 128, 128, 32  0           ['batch_normalization_9[0][0]']  \n",
            "                                )                                                                 \n",
            "                                                                                                  \n",
            " conv2d_14 (Conv2D)             (None, 128, 128, 32  1056        ['activation_9[0][0]']           \n",
            "                                )                                                                 \n",
            "                                                                                                  \n",
            " batch_normalization_10 (BatchN  (None, 128, 128, 32  128        ['conv2d_14[0][0]']              \n",
            " ormalization)                  )                                                                 \n",
            "                                                                                                  \n",
            " activation_10 (Activation)     (None, 128, 128, 32  0           ['batch_normalization_10[0][0]'] \n",
            "                                )                                                                 \n",
            "                                                                                                  \n",
            " conv2d_15 (Conv2D)             (None, 128, 128, 32  9248        ['activation_10[0][0]']          \n",
            "                                )                                                                 \n",
            "                                                                                                  \n",
            " batch_normalization_11 (BatchN  (None, 128, 128, 32  128        ['conv2d_15[0][0]']              \n",
            " ormalization)                  )                                                                 \n",
            "                                                                                                  \n",
            " activation_11 (Activation)     (None, 128, 128, 32  0           ['batch_normalization_11[0][0]'] \n",
            "                                )                                                                 \n",
            "                                                                                                  \n",
            " conv2d_16 (Conv2D)             (None, 128, 128, 32  1056        ['activation_11[0][0]']          \n",
            "                                )                                                                 \n",
            "                                                                                                  \n",
            " conv2d_13 (Conv2D)             (None, 128, 128, 32  1056        ['max_pooling2d_1[0][0]']        \n",
            "                                )                                                                 \n",
            "                                                                                                  \n",
            " add_3 (Add)                    (None, 128, 128, 32  0           ['conv2d_16[0][0]',              \n",
            "                                )                                 'conv2d_13[0][0]']              \n",
            "                                                                                                  \n",
            " batch_normalization_12 (BatchN  (None, 128, 128, 32  128        ['add_3[0][0]']                  \n",
            " ormalization)                  )                                                                 \n",
            "                                                                                                  \n",
            " activation_12 (Activation)     (None, 128, 128, 32  0           ['batch_normalization_12[0][0]'] \n",
            "                                )                                                                 \n",
            "                                                                                                  \n",
            " conv2d_18 (Conv2D)             (None, 128, 128, 32  1056        ['activation_12[0][0]']          \n",
            "                                )                                                                 \n",
            "                                                                                                  \n",
            " batch_normalization_13 (BatchN  (None, 128, 128, 32  128        ['conv2d_18[0][0]']              \n",
            " ormalization)                  )                                                                 \n",
            "                                                                                                  \n",
            " activation_13 (Activation)     (None, 128, 128, 32  0           ['batch_normalization_13[0][0]'] \n",
            "                                )                                                                 \n",
            "                                                                                                  \n",
            " conv2d_19 (Conv2D)             (None, 128, 128, 32  9248        ['activation_13[0][0]']          \n",
            "                                )                                                                 \n",
            "                                                                                                  \n",
            " batch_normalization_6 (BatchNo  (None, 256, 256, 32  128        ['add[0][0]']                    \n",
            " rmalization)                   )                                                                 \n",
            "                                                                                                  \n",
            " batch_normalization_14 (BatchN  (None, 128, 128, 32  128        ['conv2d_19[0][0]']              \n",
            " ormalization)                  )                                                                 \n",
            "                                                                                                  \n",
            " activation_6 (Activation)      (None, 256, 256, 32  0           ['batch_normalization_6[0][0]']  \n",
            "                                )                                                                 \n",
            "                                                                                                  \n",
            " activation_14 (Activation)     (None, 128, 128, 32  0           ['batch_normalization_14[0][0]'] \n",
            "                                )                                                                 \n",
            "                                                                                                  \n",
            " conv2d_10 (Conv2D)             (None, 256, 256, 32  1056        ['activation_6[0][0]']           \n",
            "                                )                                                                 \n",
            "                                                                                                  \n",
            " conv2d_20 (Conv2D)             (None, 128, 128, 32  1056        ['activation_14[0][0]']          \n",
            "                                )                                                                 \n",
            "                                                                                                  \n",
            " conv2d_17 (Conv2D)             (None, 128, 128, 32  1056        ['add_3[0][0]']                  \n",
            "                                )                                                                 \n",
            "                                                                                                  \n",
            " batch_normalization_7 (BatchNo  (None, 256, 256, 32  128        ['conv2d_10[0][0]']              \n",
            " rmalization)                   )                                                                 \n",
            "                                                                                                  \n",
            " add_4 (Add)                    (None, 128, 128, 32  0           ['conv2d_20[0][0]',              \n",
            "                                )                                 'conv2d_17[0][0]']              \n",
            "                                                                                                  \n",
            " activation_7 (Activation)      (None, 256, 256, 32  0           ['batch_normalization_7[0][0]']  \n",
            "                                )                                                                 \n",
            "                                                                                                  \n",
            " up_sampling2d (UpSampling2D)   (None, 256, 256, 32  0           ['add_4[0][0]']                  \n",
            "                                )                                                                 \n",
            "                                                                                                  \n",
            " conv2d_11 (Conv2D)             (None, 256, 256, 32  9248        ['activation_7[0][0]']           \n",
            "                                )                                                                 \n",
            "                                                                                                  \n",
            " conv2d_21 (Conv2D)             (None, 256, 256, 32  1056        ['up_sampling2d[0][0]']          \n",
            "                                )                                                                 \n",
            "                                                                                                  \n",
            " batch_normalization_8 (BatchNo  (None, 256, 256, 32  128        ['conv2d_11[0][0]']              \n",
            " rmalization)                   )                                                                 \n",
            "                                                                                                  \n",
            " conv2d_22 (Conv2D)             (None, 256, 256, 32  1056        ['conv2d_21[0][0]']              \n",
            "                                )                                                                 \n",
            "                                                                                                  \n",
            " activation_8 (Activation)      (None, 256, 256, 32  0           ['batch_normalization_8[0][0]']  \n",
            "                                )                                                                 \n",
            "                                                                                                  \n",
            " activation_15 (Activation)     (None, 256, 256, 32  0           ['conv2d_22[0][0]']              \n",
            "                                )                                                                 \n",
            "                                                                                                  \n",
            " conv2d_12 (Conv2D)             (None, 256, 256, 32  1056        ['activation_8[0][0]']           \n",
            "                                )                                                                 \n",
            "                                                                                                  \n",
            " conv2d_9 (Conv2D)              (None, 256, 256, 32  1056        ['add[0][0]']                    \n",
            "                                )                                                                 \n",
            "                                                                                                  \n",
            " lambda (Lambda)                (None, 256, 256, 32  0           ['activation_15[0][0]']          \n",
            "                                )                                                                 \n",
            "                                                                                                  \n",
            " add_2 (Add)                    (None, 256, 256, 32  0           ['conv2d_12[0][0]',              \n",
            "                                )                                 'conv2d_9[0][0]']               \n",
            "                                                                                                  \n",
            " multiply (Multiply)            (None, 256, 256, 32  0           ['lambda[0][0]',                 \n",
            "                                )                                 'add_2[0][0]']                  \n",
            "                                                                                                  \n",
            " batch_normalization_15 (BatchN  (None, 256, 256, 32  128        ['multiply[0][0]']               \n",
            " ormalization)                  )                                                                 \n",
            "                                                                                                  \n",
            " activation_16 (Activation)     (None, 256, 256, 32  0           ['batch_normalization_15[0][0]'] \n",
            "                                )                                                                 \n",
            "                                                                                                  \n",
            " conv2d_24 (Conv2D)             (None, 256, 256, 32  1056        ['activation_16[0][0]']          \n",
            "                                )                                                                 \n",
            "                                                                                                  \n",
            " batch_normalization_16 (BatchN  (None, 256, 256, 32  128        ['conv2d_24[0][0]']              \n",
            " ormalization)                  )                                                                 \n",
            "                                                                                                  \n",
            " activation_17 (Activation)     (None, 256, 256, 32  0           ['batch_normalization_16[0][0]'] \n",
            "                                )                                                                 \n",
            "                                                                                                  \n",
            " conv2d_25 (Conv2D)             (None, 256, 256, 32  9248        ['activation_17[0][0]']          \n",
            "                                )                                                                 \n",
            "                                                                                                  \n",
            " batch_normalization_17 (BatchN  (None, 256, 256, 32  128        ['conv2d_25[0][0]']              \n",
            " ormalization)                  )                                                                 \n",
            "                                                                                                  \n",
            " activation_18 (Activation)     (None, 256, 256, 32  0           ['batch_normalization_17[0][0]'] \n",
            "                                )                                                                 \n",
            "                                                                                                  \n",
            " conv2d_26 (Conv2D)             (None, 256, 256, 32  1056        ['activation_18[0][0]']          \n",
            "                                )                                                                 \n",
            "                                                                                                  \n",
            " conv2d_23 (Conv2D)             (None, 256, 256, 32  1056        ['multiply[0][0]']               \n",
            "                                )                                                                 \n",
            "                                                                                                  \n",
            " add_5 (Add)                    (None, 256, 256, 32  0           ['conv2d_26[0][0]',              \n",
            "                                )                                 'conv2d_23[0][0]']              \n",
            "                                                                                                  \n",
            " batch_normalization_18 (BatchN  (None, 256, 256, 32  128        ['add_5[0][0]']                  \n",
            " ormalization)                  )                                                                 \n",
            "                                                                                                  \n",
            " activation_19 (Activation)     (None, 256, 256, 32  0           ['batch_normalization_18[0][0]'] \n",
            "                                )                                                                 \n",
            "                                                                                                  \n",
            " conv2d_28 (Conv2D)             (None, 256, 256, 32  1056        ['activation_19[0][0]']          \n",
            "                                )                                                                 \n",
            "                                                                                                  \n",
            " batch_normalization_19 (BatchN  (None, 256, 256, 32  128        ['conv2d_28[0][0]']              \n",
            " ormalization)                  )                                                                 \n",
            "                                                                                                  \n",
            " activation_20 (Activation)     (None, 256, 256, 32  0           ['batch_normalization_19[0][0]'] \n",
            "                                )                                                                 \n",
            "                                                                                                  \n",
            " conv2d_29 (Conv2D)             (None, 256, 256, 32  9248        ['activation_20[0][0]']          \n",
            "                                )                                                                 \n",
            "                                                                                                  \n",
            " batch_normalization_20 (BatchN  (None, 256, 256, 32  128        ['conv2d_29[0][0]']              \n",
            " ormalization)                  )                                                                 \n",
            "                                                                                                  \n",
            " activation_21 (Activation)     (None, 256, 256, 32  0           ['batch_normalization_20[0][0]'] \n",
            "                                )                                                                 \n",
            "                                                                                                  \n",
            " conv2d_30 (Conv2D)             (None, 256, 256, 64  2112        ['activation_21[0][0]']          \n",
            "                                )                                                                 \n",
            "                                                                                                  \n",
            " conv2d_27 (Conv2D)             (None, 256, 256, 64  2112        ['add_5[0][0]']                  \n",
            "                                )                                                                 \n",
            "                                                                                                  \n",
            " add_6 (Add)                    (None, 256, 256, 64  0           ['conv2d_30[0][0]',              \n",
            "                                )                                 'conv2d_27[0][0]']              \n",
            "                                                                                                  \n",
            " max_pooling2d_2 (MaxPooling2D)  (None, 128, 128, 64  0          ['add_6[0][0]']                  \n",
            "                                )                                                                 \n",
            "                                                                                                  \n",
            " batch_normalization_21 (BatchN  (None, 128, 128, 64  256        ['max_pooling2d_2[0][0]']        \n",
            " ormalization)                  )                                                                 \n",
            "                                                                                                  \n",
            " activation_22 (Activation)     (None, 128, 128, 64  0           ['batch_normalization_21[0][0]'] \n",
            "                                )                                                                 \n",
            "                                                                                                  \n",
            " conv2d_32 (Conv2D)             (None, 128, 128, 64  4160        ['activation_22[0][0]']          \n",
            "                                )                                                                 \n",
            "                                                                                                  \n",
            " batch_normalization_22 (BatchN  (None, 128, 128, 64  256        ['conv2d_32[0][0]']              \n",
            " ormalization)                  )                                                                 \n",
            "                                                                                                  \n",
            " activation_23 (Activation)     (None, 128, 128, 64  0           ['batch_normalization_22[0][0]'] \n",
            "                                )                                                                 \n",
            "                                                                                                  \n",
            " conv2d_33 (Conv2D)             (None, 128, 128, 64  36928       ['activation_23[0][0]']          \n",
            "                                )                                                                 \n",
            "                                                                                                  \n",
            " batch_normalization_23 (BatchN  (None, 128, 128, 64  256        ['conv2d_33[0][0]']              \n",
            " ormalization)                  )                                                                 \n",
            "                                                                                                  \n",
            " activation_24 (Activation)     (None, 128, 128, 64  0           ['batch_normalization_23[0][0]'] \n",
            "                                )                                                                 \n",
            "                                                                                                  \n",
            " conv2d_34 (Conv2D)             (None, 128, 128, 64  4160        ['activation_24[0][0]']          \n",
            "                                )                                                                 \n",
            "                                                                                                  \n",
            " conv2d_31 (Conv2D)             (None, 128, 128, 64  4160        ['max_pooling2d_2[0][0]']        \n",
            "                                )                                                                 \n",
            "                                                                                                  \n",
            " add_7 (Add)                    (None, 128, 128, 64  0           ['conv2d_34[0][0]',              \n",
            "                                )                                 'conv2d_31[0][0]']              \n",
            "                                                                                                  \n",
            " max_pooling2d_3 (MaxPooling2D)  (None, 64, 64, 64)  0           ['add_7[0][0]']                  \n",
            "                                                                                                  \n",
            " batch_normalization_30 (BatchN  (None, 64, 64, 64)  256         ['max_pooling2d_3[0][0]']        \n",
            " ormalization)                                                                                    \n",
            "                                                                                                  \n",
            " activation_31 (Activation)     (None, 64, 64, 64)   0           ['batch_normalization_30[0][0]'] \n",
            "                                                                                                  \n",
            " conv2d_44 (Conv2D)             (None, 64, 64, 64)   4160        ['activation_31[0][0]']          \n",
            "                                                                                                  \n",
            " batch_normalization_31 (BatchN  (None, 64, 64, 64)  256         ['conv2d_44[0][0]']              \n",
            " ormalization)                                                                                    \n",
            "                                                                                                  \n",
            " activation_32 (Activation)     (None, 64, 64, 64)   0           ['batch_normalization_31[0][0]'] \n",
            "                                                                                                  \n",
            " conv2d_45 (Conv2D)             (None, 64, 64, 64)   36928       ['activation_32[0][0]']          \n",
            "                                                                                                  \n",
            " batch_normalization_32 (BatchN  (None, 64, 64, 64)  256         ['conv2d_45[0][0]']              \n",
            " ormalization)                                                                                    \n",
            "                                                                                                  \n",
            " activation_33 (Activation)     (None, 64, 64, 64)   0           ['batch_normalization_32[0][0]'] \n",
            "                                                                                                  \n",
            " conv2d_46 (Conv2D)             (None, 64, 64, 64)   4160        ['activation_33[0][0]']          \n",
            "                                                                                                  \n",
            " conv2d_43 (Conv2D)             (None, 64, 64, 64)   4160        ['max_pooling2d_3[0][0]']        \n",
            "                                                                                                  \n",
            " add_10 (Add)                   (None, 64, 64, 64)   0           ['conv2d_46[0][0]',              \n",
            "                                                                  'conv2d_43[0][0]']              \n",
            "                                                                                                  \n",
            " batch_normalization_33 (BatchN  (None, 64, 64, 64)  256         ['add_10[0][0]']                 \n",
            " ormalization)                                                                                    \n",
            "                                                                                                  \n",
            " activation_34 (Activation)     (None, 64, 64, 64)   0           ['batch_normalization_33[0][0]'] \n",
            "                                                                                                  \n",
            " conv2d_48 (Conv2D)             (None, 64, 64, 64)   4160        ['activation_34[0][0]']          \n",
            "                                                                                                  \n",
            " batch_normalization_34 (BatchN  (None, 64, 64, 64)  256         ['conv2d_48[0][0]']              \n",
            " ormalization)                                                                                    \n",
            "                                                                                                  \n",
            " activation_35 (Activation)     (None, 64, 64, 64)   0           ['batch_normalization_34[0][0]'] \n",
            "                                                                                                  \n",
            " conv2d_49 (Conv2D)             (None, 64, 64, 64)   36928       ['activation_35[0][0]']          \n",
            "                                                                                                  \n",
            " batch_normalization_27 (BatchN  (None, 128, 128, 64  256        ['add_7[0][0]']                  \n",
            " ormalization)                  )                                                                 \n",
            "                                                                                                  \n",
            " batch_normalization_35 (BatchN  (None, 64, 64, 64)  256         ['conv2d_49[0][0]']              \n",
            " ormalization)                                                                                    \n",
            "                                                                                                  \n",
            " activation_28 (Activation)     (None, 128, 128, 64  0           ['batch_normalization_27[0][0]'] \n",
            "                                )                                                                 \n",
            "                                                                                                  \n",
            " activation_36 (Activation)     (None, 64, 64, 64)   0           ['batch_normalization_35[0][0]'] \n",
            "                                                                                                  \n",
            " conv2d_40 (Conv2D)             (None, 128, 128, 64  4160        ['activation_28[0][0]']          \n",
            "                                )                                                                 \n",
            "                                                                                                  \n",
            " conv2d_50 (Conv2D)             (None, 64, 64, 64)   4160        ['activation_36[0][0]']          \n",
            "                                                                                                  \n",
            " conv2d_47 (Conv2D)             (None, 64, 64, 64)   4160        ['add_10[0][0]']                 \n",
            "                                                                                                  \n",
            " batch_normalization_28 (BatchN  (None, 128, 128, 64  256        ['conv2d_40[0][0]']              \n",
            " ormalization)                  )                                                                 \n",
            "                                                                                                  \n",
            " add_11 (Add)                   (None, 64, 64, 64)   0           ['conv2d_50[0][0]',              \n",
            "                                                                  'conv2d_47[0][0]']              \n",
            "                                                                                                  \n",
            " activation_29 (Activation)     (None, 128, 128, 64  0           ['batch_normalization_28[0][0]'] \n",
            "                                )                                                                 \n",
            "                                                                                                  \n",
            " up_sampling2d_1 (UpSampling2D)  (None, 128, 128, 64  0          ['add_11[0][0]']                 \n",
            "                                )                                                                 \n",
            "                                                                                                  \n",
            " conv2d_41 (Conv2D)             (None, 128, 128, 64  36928       ['activation_29[0][0]']          \n",
            "                                )                                                                 \n",
            "                                                                                                  \n",
            " conv2d_51 (Conv2D)             (None, 128, 128, 64  4160        ['up_sampling2d_1[0][0]']        \n",
            "                                )                                                                 \n",
            "                                                                                                  \n",
            " batch_normalization_29 (BatchN  (None, 128, 128, 64  256        ['conv2d_41[0][0]']              \n",
            " ormalization)                  )                                                                 \n",
            "                                                                                                  \n",
            " conv2d_52 (Conv2D)             (None, 128, 128, 64  4160        ['conv2d_51[0][0]']              \n",
            "                                )                                                                 \n",
            "                                                                                                  \n",
            " activation_30 (Activation)     (None, 128, 128, 64  0           ['batch_normalization_29[0][0]'] \n",
            "                                )                                                                 \n",
            "                                                                                                  \n",
            " activation_37 (Activation)     (None, 128, 128, 64  0           ['conv2d_52[0][0]']              \n",
            "                                )                                                                 \n",
            "                                                                                                  \n",
            " conv2d_42 (Conv2D)             (None, 128, 128, 64  4160        ['activation_30[0][0]']          \n",
            "                                )                                                                 \n",
            "                                                                                                  \n",
            " conv2d_39 (Conv2D)             (None, 128, 128, 64  4160        ['add_7[0][0]']                  \n",
            "                                )                                                                 \n",
            "                                                                                                  \n",
            " lambda_1 (Lambda)              (None, 128, 128, 64  0           ['activation_37[0][0]']          \n",
            "                                )                                                                 \n",
            "                                                                                                  \n",
            " add_9 (Add)                    (None, 128, 128, 64  0           ['conv2d_42[0][0]',              \n",
            "                                )                                 'conv2d_39[0][0]']              \n",
            "                                                                                                  \n",
            " multiply_1 (Multiply)          (None, 128, 128, 64  0           ['lambda_1[0][0]',               \n",
            "                                )                                 'add_9[0][0]']                  \n",
            "                                                                                                  \n",
            " batch_normalization_36 (BatchN  (None, 128, 128, 64  256        ['multiply_1[0][0]']             \n",
            " ormalization)                  )                                                                 \n",
            "                                                                                                  \n",
            " activation_38 (Activation)     (None, 128, 128, 64  0           ['batch_normalization_36[0][0]'] \n",
            "                                )                                                                 \n",
            "                                                                                                  \n",
            " conv2d_54 (Conv2D)             (None, 128, 128, 64  4160        ['activation_38[0][0]']          \n",
            "                                )                                                                 \n",
            "                                                                                                  \n",
            " batch_normalization_37 (BatchN  (None, 128, 128, 64  256        ['conv2d_54[0][0]']              \n",
            " ormalization)                  )                                                                 \n",
            "                                                                                                  \n",
            " activation_39 (Activation)     (None, 128, 128, 64  0           ['batch_normalization_37[0][0]'] \n",
            "                                )                                                                 \n",
            "                                                                                                  \n",
            " conv2d_55 (Conv2D)             (None, 128, 128, 64  36928       ['activation_39[0][0]']          \n",
            "                                )                                                                 \n",
            "                                                                                                  \n",
            " batch_normalization_38 (BatchN  (None, 128, 128, 64  256        ['conv2d_55[0][0]']              \n",
            " ormalization)                  )                                                                 \n",
            "                                                                                                  \n",
            " activation_40 (Activation)     (None, 128, 128, 64  0           ['batch_normalization_38[0][0]'] \n",
            "                                )                                                                 \n",
            "                                                                                                  \n",
            " conv2d_56 (Conv2D)             (None, 128, 128, 64  4160        ['activation_40[0][0]']          \n",
            "                                )                                                                 \n",
            "                                                                                                  \n",
            " conv2d_53 (Conv2D)             (None, 128, 128, 64  4160        ['multiply_1[0][0]']             \n",
            "                                )                                                                 \n",
            "                                                                                                  \n",
            " add_12 (Add)                   (None, 128, 128, 64  0           ['conv2d_56[0][0]',              \n",
            "                                )                                 'conv2d_53[0][0]']              \n",
            "                                                                                                  \n",
            " batch_normalization_39 (BatchN  (None, 128, 128, 64  256        ['add_12[0][0]']                 \n",
            " ormalization)                  )                                                                 \n",
            "                                                                                                  \n",
            " activation_41 (Activation)     (None, 128, 128, 64  0           ['batch_normalization_39[0][0]'] \n",
            "                                )                                                                 \n",
            "                                                                                                  \n",
            " conv2d_58 (Conv2D)             (None, 128, 128, 64  4160        ['activation_41[0][0]']          \n",
            "                                )                                                                 \n",
            "                                                                                                  \n",
            " batch_normalization_40 (BatchN  (None, 128, 128, 64  256        ['conv2d_58[0][0]']              \n",
            " ormalization)                  )                                                                 \n",
            "                                                                                                  \n",
            " activation_42 (Activation)     (None, 128, 128, 64  0           ['batch_normalization_40[0][0]'] \n",
            "                                )                                                                 \n",
            "                                                                                                  \n",
            " conv2d_59 (Conv2D)             (None, 128, 128, 64  36928       ['activation_42[0][0]']          \n",
            "                                )                                                                 \n",
            "                                                                                                  \n",
            " batch_normalization_41 (BatchN  (None, 128, 128, 64  256        ['conv2d_59[0][0]']              \n",
            " ormalization)                  )                                                                 \n",
            "                                                                                                  \n",
            " activation_43 (Activation)     (None, 128, 128, 64  0           ['batch_normalization_41[0][0]'] \n",
            "                                )                                                                 \n",
            "                                                                                                  \n",
            " conv2d_60 (Conv2D)             (None, 128, 128, 12  8320        ['activation_43[0][0]']          \n",
            "                                8)                                                                \n",
            "                                                                                                  \n",
            " conv2d_57 (Conv2D)             (None, 128, 128, 12  8320        ['add_12[0][0]']                 \n",
            "                                8)                                                                \n",
            "                                                                                                  \n",
            " add_13 (Add)                   (None, 128, 128, 12  0           ['conv2d_60[0][0]',              \n",
            "                                8)                                'conv2d_57[0][0]']              \n",
            "                                                                                                  \n",
            " max_pooling2d_4 (MaxPooling2D)  (None, 64, 64, 128)  0          ['add_13[0][0]']                 \n",
            "                                                                                                  \n",
            " batch_normalization_42 (BatchN  (None, 64, 64, 128)  512        ['max_pooling2d_4[0][0]']        \n",
            " ormalization)                                                                                    \n",
            "                                                                                                  \n",
            " activation_44 (Activation)     (None, 64, 64, 128)  0           ['batch_normalization_42[0][0]'] \n",
            "                                                                                                  \n",
            " conv2d_62 (Conv2D)             (None, 64, 64, 128)  16512       ['activation_44[0][0]']          \n",
            "                                                                                                  \n",
            " batch_normalization_43 (BatchN  (None, 64, 64, 128)  512        ['conv2d_62[0][0]']              \n",
            " ormalization)                                                                                    \n",
            "                                                                                                  \n",
            " activation_45 (Activation)     (None, 64, 64, 128)  0           ['batch_normalization_43[0][0]'] \n",
            "                                                                                                  \n",
            " conv2d_63 (Conv2D)             (None, 64, 64, 128)  147584      ['activation_45[0][0]']          \n",
            "                                                                                                  \n",
            " batch_normalization_44 (BatchN  (None, 64, 64, 128)  512        ['conv2d_63[0][0]']              \n",
            " ormalization)                                                                                    \n",
            "                                                                                                  \n",
            " activation_46 (Activation)     (None, 64, 64, 128)  0           ['batch_normalization_44[0][0]'] \n",
            "                                                                                                  \n",
            " conv2d_64 (Conv2D)             (None, 64, 64, 128)  16512       ['activation_46[0][0]']          \n",
            "                                                                                                  \n",
            " conv2d_61 (Conv2D)             (None, 64, 64, 128)  16512       ['max_pooling2d_4[0][0]']        \n",
            "                                                                                                  \n",
            " add_14 (Add)                   (None, 64, 64, 128)  0           ['conv2d_64[0][0]',              \n",
            "                                                                  'conv2d_61[0][0]']              \n",
            "                                                                                                  \n",
            " max_pooling2d_5 (MaxPooling2D)  (None, 32, 32, 128)  0          ['add_14[0][0]']                 \n",
            "                                                                                                  \n",
            " batch_normalization_51 (BatchN  (None, 32, 32, 128)  512        ['max_pooling2d_5[0][0]']        \n",
            " ormalization)                                                                                    \n",
            "                                                                                                  \n",
            " activation_53 (Activation)     (None, 32, 32, 128)  0           ['batch_normalization_51[0][0]'] \n",
            "                                                                                                  \n",
            " conv2d_74 (Conv2D)             (None, 32, 32, 128)  16512       ['activation_53[0][0]']          \n",
            "                                                                                                  \n",
            " batch_normalization_52 (BatchN  (None, 32, 32, 128)  512        ['conv2d_74[0][0]']              \n",
            " ormalization)                                                                                    \n",
            "                                                                                                  \n",
            " activation_54 (Activation)     (None, 32, 32, 128)  0           ['batch_normalization_52[0][0]'] \n",
            "                                                                                                  \n",
            " conv2d_75 (Conv2D)             (None, 32, 32, 128)  147584      ['activation_54[0][0]']          \n",
            "                                                                                                  \n",
            " batch_normalization_53 (BatchN  (None, 32, 32, 128)  512        ['conv2d_75[0][0]']              \n",
            " ormalization)                                                                                    \n",
            "                                                                                                  \n",
            " activation_55 (Activation)     (None, 32, 32, 128)  0           ['batch_normalization_53[0][0]'] \n",
            "                                                                                                  \n",
            " conv2d_76 (Conv2D)             (None, 32, 32, 128)  16512       ['activation_55[0][0]']          \n",
            "                                                                                                  \n",
            " conv2d_73 (Conv2D)             (None, 32, 32, 128)  16512       ['max_pooling2d_5[0][0]']        \n",
            "                                                                                                  \n",
            " add_17 (Add)                   (None, 32, 32, 128)  0           ['conv2d_76[0][0]',              \n",
            "                                                                  'conv2d_73[0][0]']              \n",
            "                                                                                                  \n",
            " batch_normalization_54 (BatchN  (None, 32, 32, 128)  512        ['add_17[0][0]']                 \n",
            " ormalization)                                                                                    \n",
            "                                                                                                  \n",
            " activation_56 (Activation)     (None, 32, 32, 128)  0           ['batch_normalization_54[0][0]'] \n",
            "                                                                                                  \n",
            " conv2d_78 (Conv2D)             (None, 32, 32, 128)  16512       ['activation_56[0][0]']          \n",
            "                                                                                                  \n",
            " batch_normalization_55 (BatchN  (None, 32, 32, 128)  512        ['conv2d_78[0][0]']              \n",
            " ormalization)                                                                                    \n",
            "                                                                                                  \n",
            " activation_57 (Activation)     (None, 32, 32, 128)  0           ['batch_normalization_55[0][0]'] \n",
            "                                                                                                  \n",
            " conv2d_79 (Conv2D)             (None, 32, 32, 128)  147584      ['activation_57[0][0]']          \n",
            "                                                                                                  \n",
            " batch_normalization_48 (BatchN  (None, 64, 64, 128)  512        ['add_14[0][0]']                 \n",
            " ormalization)                                                                                    \n",
            "                                                                                                  \n",
            " batch_normalization_56 (BatchN  (None, 32, 32, 128)  512        ['conv2d_79[0][0]']              \n",
            " ormalization)                                                                                    \n",
            "                                                                                                  \n",
            " activation_50 (Activation)     (None, 64, 64, 128)  0           ['batch_normalization_48[0][0]'] \n",
            "                                                                                                  \n",
            " activation_58 (Activation)     (None, 32, 32, 128)  0           ['batch_normalization_56[0][0]'] \n",
            "                                                                                                  \n",
            " conv2d_70 (Conv2D)             (None, 64, 64, 128)  16512       ['activation_50[0][0]']          \n",
            "                                                                                                  \n",
            " conv2d_80 (Conv2D)             (None, 32, 32, 128)  16512       ['activation_58[0][0]']          \n",
            "                                                                                                  \n",
            " conv2d_77 (Conv2D)             (None, 32, 32, 128)  16512       ['add_17[0][0]']                 \n",
            "                                                                                                  \n",
            " batch_normalization_49 (BatchN  (None, 64, 64, 128)  512        ['conv2d_70[0][0]']              \n",
            " ormalization)                                                                                    \n",
            "                                                                                                  \n",
            " add_18 (Add)                   (None, 32, 32, 128)  0           ['conv2d_80[0][0]',              \n",
            "                                                                  'conv2d_77[0][0]']              \n",
            "                                                                                                  \n",
            " activation_51 (Activation)     (None, 64, 64, 128)  0           ['batch_normalization_49[0][0]'] \n",
            "                                                                                                  \n",
            " up_sampling2d_2 (UpSampling2D)  (None, 64, 64, 128)  0          ['add_18[0][0]']                 \n",
            "                                                                                                  \n",
            " conv2d_71 (Conv2D)             (None, 64, 64, 128)  147584      ['activation_51[0][0]']          \n",
            "                                                                                                  \n",
            " conv2d_81 (Conv2D)             (None, 64, 64, 128)  16512       ['up_sampling2d_2[0][0]']        \n",
            "                                                                                                  \n",
            " batch_normalization_50 (BatchN  (None, 64, 64, 128)  512        ['conv2d_71[0][0]']              \n",
            " ormalization)                                                                                    \n",
            "                                                                                                  \n",
            " conv2d_82 (Conv2D)             (None, 64, 64, 128)  16512       ['conv2d_81[0][0]']              \n",
            "                                                                                                  \n",
            " activation_52 (Activation)     (None, 64, 64, 128)  0           ['batch_normalization_50[0][0]'] \n",
            "                                                                                                  \n",
            " activation_59 (Activation)     (None, 64, 64, 128)  0           ['conv2d_82[0][0]']              \n",
            "                                                                                                  \n",
            " conv2d_72 (Conv2D)             (None, 64, 64, 128)  16512       ['activation_52[0][0]']          \n",
            "                                                                                                  \n",
            " conv2d_69 (Conv2D)             (None, 64, 64, 128)  16512       ['add_14[0][0]']                 \n",
            "                                                                                                  \n",
            " lambda_2 (Lambda)              (None, 64, 64, 128)  0           ['activation_59[0][0]']          \n",
            "                                                                                                  \n",
            " add_16 (Add)                   (None, 64, 64, 128)  0           ['conv2d_72[0][0]',              \n",
            "                                                                  'conv2d_69[0][0]']              \n",
            "                                                                                                  \n",
            " multiply_2 (Multiply)          (None, 64, 64, 128)  0           ['lambda_2[0][0]',               \n",
            "                                                                  'add_16[0][0]']                 \n",
            "                                                                                                  \n",
            " batch_normalization_57 (BatchN  (None, 64, 64, 128)  512        ['multiply_2[0][0]']             \n",
            " ormalization)                                                                                    \n",
            "                                                                                                  \n",
            " activation_60 (Activation)     (None, 64, 64, 128)  0           ['batch_normalization_57[0][0]'] \n",
            "                                                                                                  \n",
            " conv2d_84 (Conv2D)             (None, 64, 64, 128)  16512       ['activation_60[0][0]']          \n",
            "                                                                                                  \n",
            " batch_normalization_58 (BatchN  (None, 64, 64, 128)  512        ['conv2d_84[0][0]']              \n",
            " ormalization)                                                                                    \n",
            "                                                                                                  \n",
            " activation_61 (Activation)     (None, 64, 64, 128)  0           ['batch_normalization_58[0][0]'] \n",
            "                                                                                                  \n",
            " conv2d_85 (Conv2D)             (None, 64, 64, 128)  147584      ['activation_61[0][0]']          \n",
            "                                                                                                  \n",
            " batch_normalization_59 (BatchN  (None, 64, 64, 128)  512        ['conv2d_85[0][0]']              \n",
            " ormalization)                                                                                    \n",
            "                                                                                                  \n",
            " activation_62 (Activation)     (None, 64, 64, 128)  0           ['batch_normalization_59[0][0]'] \n",
            "                                                                                                  \n",
            " conv2d_86 (Conv2D)             (None, 64, 64, 128)  16512       ['activation_62[0][0]']          \n",
            "                                                                                                  \n",
            " conv2d_83 (Conv2D)             (None, 64, 64, 128)  16512       ['multiply_2[0][0]']             \n",
            "                                                                                                  \n",
            " add_19 (Add)                   (None, 64, 64, 128)  0           ['conv2d_86[0][0]',              \n",
            "                                                                  'conv2d_83[0][0]']              \n",
            "                                                                                                  \n",
            " max_pooling2d_6 (MaxPooling2D)  (None, 32, 32, 128)  0          ['add_19[0][0]']                 \n",
            "                                                                                                  \n",
            " batch_normalization_60 (BatchN  (None, 32, 32, 128)  512        ['max_pooling2d_6[0][0]']        \n",
            " ormalization)                                                                                    \n",
            "                                                                                                  \n",
            " activation_63 (Activation)     (None, 32, 32, 128)  0           ['batch_normalization_60[0][0]'] \n",
            "                                                                                                  \n",
            " conv2d_88 (Conv2D)             (None, 32, 32, 128)  16512       ['activation_63[0][0]']          \n",
            "                                                                                                  \n",
            " batch_normalization_61 (BatchN  (None, 32, 32, 128)  512        ['conv2d_88[0][0]']              \n",
            " ormalization)                                                                                    \n",
            "                                                                                                  \n",
            " activation_64 (Activation)     (None, 32, 32, 128)  0           ['batch_normalization_61[0][0]'] \n",
            "                                                                                                  \n",
            " conv2d_89 (Conv2D)             (None, 32, 32, 128)  147584      ['activation_64[0][0]']          \n",
            "                                                                                                  \n",
            " batch_normalization_62 (BatchN  (None, 32, 32, 128)  512        ['conv2d_89[0][0]']              \n",
            " ormalization)                                                                                    \n",
            "                                                                                                  \n",
            " activation_65 (Activation)     (None, 32, 32, 128)  0           ['batch_normalization_62[0][0]'] \n",
            "                                                                                                  \n",
            " conv2d_90 (Conv2D)             (None, 32, 32, 256)  33024       ['activation_65[0][0]']          \n",
            "                                                                                                  \n",
            " conv2d_87 (Conv2D)             (None, 32, 32, 256)  33024       ['max_pooling2d_6[0][0]']        \n",
            "                                                                                                  \n",
            " add_20 (Add)                   (None, 32, 32, 256)  0           ['conv2d_90[0][0]',              \n",
            "                                                                  'conv2d_87[0][0]']              \n",
            "                                                                                                  \n",
            " max_pooling2d_7 (MaxPooling2D)  (None, 16, 16, 256)  0          ['add_20[0][0]']                 \n",
            "                                                                                                  \n",
            " batch_normalization_63 (BatchN  (None, 16, 16, 256)  1024       ['max_pooling2d_7[0][0]']        \n",
            " ormalization)                                                                                    \n",
            "                                                                                                  \n",
            " activation_66 (Activation)     (None, 16, 16, 256)  0           ['batch_normalization_63[0][0]'] \n",
            "                                                                                                  \n",
            " conv2d_92 (Conv2D)             (None, 16, 16, 256)  65792       ['activation_66[0][0]']          \n",
            "                                                                                                  \n",
            " batch_normalization_64 (BatchN  (None, 16, 16, 256)  1024       ['conv2d_92[0][0]']              \n",
            " ormalization)                                                                                    \n",
            "                                                                                                  \n",
            " activation_67 (Activation)     (None, 16, 16, 256)  0           ['batch_normalization_64[0][0]'] \n",
            "                                                                                                  \n",
            " conv2d_93 (Conv2D)             (None, 16, 16, 256)  590080      ['activation_67[0][0]']          \n",
            "                                                                                                  \n",
            " batch_normalization_65 (BatchN  (None, 16, 16, 256)  1024       ['conv2d_93[0][0]']              \n",
            " ormalization)                                                                                    \n",
            "                                                                                                  \n",
            " activation_68 (Activation)     (None, 16, 16, 256)  0           ['batch_normalization_65[0][0]'] \n",
            "                                                                                                  \n",
            " conv2d_94 (Conv2D)             (None, 16, 16, 512)  131584      ['activation_68[0][0]']          \n",
            "                                                                                                  \n",
            " conv2d_91 (Conv2D)             (None, 16, 16, 512)  131584      ['max_pooling2d_7[0][0]']        \n",
            "                                                                                                  \n",
            " add_21 (Add)                   (None, 16, 16, 512)  0           ['conv2d_94[0][0]',              \n",
            "                                                                  'conv2d_91[0][0]']              \n",
            "                                                                                                  \n",
            " max_pooling2d_8 (MaxPooling2D)  (None, 8, 8, 512)   0           ['add_21[0][0]']                 \n",
            "                                                                                                  \n",
            " batch_normalization_66 (BatchN  (None, 8, 8, 512)   2048        ['max_pooling2d_8[0][0]']        \n",
            " ormalization)                                                                                    \n",
            "                                                                                                  \n",
            " activation_69 (Activation)     (None, 8, 8, 512)    0           ['batch_normalization_66[0][0]'] \n",
            "                                                                                                  \n",
            " conv2d_96 (Conv2D)             (None, 8, 8, 512)    262656      ['activation_69[0][0]']          \n",
            "                                                                                                  \n",
            " batch_normalization_67 (BatchN  (None, 8, 8, 512)   2048        ['conv2d_96[0][0]']              \n",
            " ormalization)                                                                                    \n",
            "                                                                                                  \n",
            " activation_70 (Activation)     (None, 8, 8, 512)    0           ['batch_normalization_67[0][0]'] \n",
            "                                                                                                  \n",
            " conv2d_97 (Conv2D)             (None, 8, 8, 512)    2359808     ['activation_70[0][0]']          \n",
            "                                                                                                  \n",
            " batch_normalization_68 (BatchN  (None, 8, 8, 512)   2048        ['conv2d_97[0][0]']              \n",
            " ormalization)                                                                                    \n",
            "                                                                                                  \n",
            " activation_71 (Activation)     (None, 8, 8, 512)    0           ['batch_normalization_68[0][0]'] \n",
            "                                                                                                  \n",
            " conv2d_98 (Conv2D)             (None, 8, 8, 512)    262656      ['activation_71[0][0]']          \n",
            "                                                                                                  \n",
            " conv2d_95 (Conv2D)             (None, 8, 8, 512)    262656      ['max_pooling2d_8[0][0]']        \n",
            "                                                                                                  \n",
            " add_22 (Add)                   (None, 8, 8, 512)    0           ['conv2d_98[0][0]',              \n",
            "                                                                  'conv2d_95[0][0]']              \n",
            "                                                                                                  \n",
            " max_pooling2d_9 (MaxPooling2D)  (None, 4, 4, 512)   0           ['add_22[0][0]']                 \n",
            "                                                                                                  \n",
            " batch_normalization_69 (BatchN  (None, 4, 4, 512)   2048        ['max_pooling2d_9[0][0]']        \n",
            " ormalization)                                                                                    \n",
            "                                                                                                  \n",
            " activation_72 (Activation)     (None, 4, 4, 512)    0           ['batch_normalization_69[0][0]'] \n",
            "                                                                                                  \n",
            " conv2d_100 (Conv2D)            (None, 4, 4, 512)    262656      ['activation_72[0][0]']          \n",
            "                                                                                                  \n",
            " batch_normalization_70 (BatchN  (None, 4, 4, 512)   2048        ['conv2d_100[0][0]']             \n",
            " ormalization)                                                                                    \n",
            "                                                                                                  \n",
            " activation_73 (Activation)     (None, 4, 4, 512)    0           ['batch_normalization_70[0][0]'] \n",
            "                                                                                                  \n",
            " conv2d_101 (Conv2D)            (None, 4, 4, 512)    2359808     ['activation_73[0][0]']          \n",
            "                                                                                                  \n",
            " batch_normalization_71 (BatchN  (None, 4, 4, 512)   2048        ['conv2d_101[0][0]']             \n",
            " ormalization)                                                                                    \n",
            "                                                                                                  \n",
            " activation_74 (Activation)     (None, 4, 4, 512)    0           ['batch_normalization_71[0][0]'] \n",
            "                                                                                                  \n",
            " conv2d_102 (Conv2D)            (None, 4, 4, 512)    262656      ['activation_74[0][0]']          \n",
            "                                                                                                  \n",
            " conv2d_99 (Conv2D)             (None, 4, 4, 512)    262656      ['max_pooling2d_9[0][0]']        \n",
            "                                                                                                  \n",
            " add_23 (Add)                   (None, 4, 4, 512)    0           ['conv2d_102[0][0]',             \n",
            "                                                                  'conv2d_99[0][0]']              \n",
            "                                                                                                  \n",
            " max_pooling2d_10 (MaxPooling2D  (None, 2, 2, 512)   0           ['add_23[0][0]']                 \n",
            " )                                                                                                \n",
            "                                                                                                  \n",
            " flatten (Flatten)              (None, 2048)         0           ['max_pooling2d_10[0][0]']       \n",
            "                                                                                                  \n",
            " dense (Dense)                  (None, 2)            4098        ['flatten[0][0]']                \n",
            "                                                                                                  \n",
            "==================================================================================================\n",
            "Total params: 8,891,650\n",
            "Trainable params: 8,875,906\n",
            "Non-trainable params: 15,744\n",
            "__________________________________________________________________________________________________\n"
          ]
        }
      ],
      "source": [
        "# define learning rate scheduler\n",
        "def lr_schedule(epoch):\n",
        "    lr = 1e-3\n",
        "    if epoch > 60:\n",
        "        lr *= 1e-3\n",
        "    elif epoch > 20:\n",
        "        lr *= 1e-2\n",
        "    elif epoch > 5:\n",
        "        lr *= 1e-1\n",
        "    print('Learning rate:', lr)\n",
        "    return lr\n",
        "lr_scheduler = LearningRateScheduler(lr_schedule)\n",
        "\n",
        "# define model     #edit\n",
        "model = AttentionResNet56(shape=(512,512,3), in_channel=32, kernel_size=3, n_classes=2, dropout=0.4, regularization=0.01)\n",
        "\n",
        "# define loss, metrics, optimizer\n",
        "# optimizer = SGD(lr = lr_schedule(0), momentum=0.9, nesterov=True)\n",
        "optimizer = Adam( lr_schedule(0) )\n",
        "model.compile(optimizer, loss='categorical_crossentropy', metrics=['accuracy'])\n",
        "model.summary()"
      ]
    },
    {
      "cell_type": "code",
      "execution_count": null,
      "metadata": {
        "id": "MtD9A5K5mi-Y"
      },
      "outputs": [],
      "source": []
    },
    {
      "cell_type": "markdown",
      "metadata": {
        "id": "NDAd2yxumsA9"
      },
      "source": [
        "8-Training and Evaluation\n"
      ]
    },
    {
      "cell_type": "code",
      "source": [
        "# training\n",
        "epcPart1 = 10    #edit\n",
        "\n",
        "start = time.time()\n",
        "\n",
        "# usefull callbacks\n",
        "log_dir='Logs/' + '56full'\n",
        "tensorboard_callback = TensorBoard(log_dir=log_dir, histogram_freq=1)\n"
      ],
      "metadata": {
        "id": "PBNy8VU9NI9x"
      },
      "execution_count": null,
      "outputs": []
    },
    {
      "cell_type": "code",
      "execution_count": null,
      "metadata": {
        "colab": {
          "base_uri": "https://localhost:8080/"
        },
        "id": "4sJInmXemzck",
        "outputId": "e9fab812-ea51-4aec-9a11-e9e68e56a722"
      },
      "outputs": [
        {
          "name": "stdout",
          "output_type": "stream",
          "text": [
            "Learning rate: 0.001\n",
            "Epoch 1/10\n",
            "147/147 [==============================] - 803s 5s/step - loss: 2.0664 - accuracy: 0.7610 - val_loss: 0.9239 - val_accuracy: 0.5266 - lr: 0.0010\n",
            "Learning rate: 0.001\n",
            "Epoch 2/10\n",
            "147/147 [==============================] - 228s 2s/step - loss: 0.6059 - accuracy: 0.8311 - val_loss: 0.6434 - val_accuracy: 0.7090 - lr: 0.0010\n",
            "Learning rate: 0.001\n",
            "Epoch 3/10\n",
            "147/147 [==============================] - 227s 2s/step - loss: 0.4534 - accuracy: 0.8644 - val_loss: 0.7329 - val_accuracy: 0.5389 - lr: 0.0010\n",
            "Learning rate: 0.001\n",
            "Epoch 4/10\n",
            "147/147 [==============================] - 228s 2s/step - loss: 0.3601 - accuracy: 0.8798 - val_loss: 0.6949 - val_accuracy: 0.6270 - lr: 0.0010\n",
            "Learning rate: 0.001\n",
            "Epoch 5/10\n",
            "147/147 [==============================] - 226s 2s/step - loss: 0.3340 - accuracy: 0.8848 - val_loss: 0.4869 - val_accuracy: 0.7910 - lr: 0.0010\n",
            "Learning rate: 0.001\n",
            "Epoch 6/10\n",
            "147/147 [==============================] - 227s 2s/step - loss: 0.2808 - accuracy: 0.9049 - val_loss: 0.8444 - val_accuracy: 0.6270 - lr: 0.0010\n",
            "Learning rate: 0.0001\n",
            "Epoch 7/10\n",
            "147/147 [==============================] - 258s 2s/step - loss: 0.2266 - accuracy: 0.9213 - val_loss: 0.4082 - val_accuracy: 0.8176 - lr: 1.0000e-04\n",
            "Learning rate: 0.0001\n",
            "Epoch 8/10\n",
            "147/147 [==============================] - 221s 2s/step - loss: 0.2020 - accuracy: 0.9349 - val_loss: 0.3971 - val_accuracy: 0.7869 - lr: 1.0000e-04\n",
            "Learning rate: 0.0001\n",
            "Epoch 9/10\n",
            "147/147 [==============================] - 239s 2s/step - loss: 0.1971 - accuracy: 0.9322 - val_loss: 0.3991 - val_accuracy: 0.8053 - lr: 1.0000e-04\n",
            "Learning rate: 0.0001\n",
            "Epoch 10/10\n",
            "147/147 [==============================] - 228s 2s/step - loss: 0.1858 - accuracy: 0.9413 - val_loss: 0.3552 - val_accuracy: 0.8422 - lr: 1.0000e-04\n"
          ]
        }
      ],
      "source": [
        "# training\n",
        "\n",
        "history = model.fit(all_train_generator,validation_data = all_valid_generator,epochs = epcPart1,\n",
        "          callbacks=[tensorboard_callback, lr_scheduler])\n",
        "\n"
      ]
    },
    {
      "cell_type": "code",
      "execution_count": null,
      "metadata": {
        "id": "T7wmScKcDl1n"
      },
      "outputs": [],
      "source": [
        "model.save('/content/drive/Othercomputers/Hp8570/GoogleDrive_Hp8570/2class-c-pn-m2-6-7.h5')"
      ]
    },
    {
      "cell_type": "code",
      "execution_count": null,
      "metadata": {
        "colab": {
          "background_save": true,
          "base_uri": "https://localhost:8080/"
        },
        "id": "idIpsHrGDnFN",
        "outputId": "73484c5b-8685-4fc4-f1d5-c8baa372ecb3"
      },
      "outputs": [
        {
          "name": "stdout",
          "output_type": "stream",
          "text": [
            "Learning rate: 0.0001\n",
            "Epoch 11/25\n",
            "147/147 [==============================] - 229s 2s/step - loss: 0.1795 - accuracy: 0.9349 - val_loss: 0.4161 - val_accuracy: 0.8258 - lr: 1.0000e-04\n",
            "Learning rate: 0.0001\n",
            "Epoch 12/25\n",
            "147/147 [==============================] - 228s 2s/step - loss: 0.1697 - accuracy: 0.9467 - val_loss: 0.3756 - val_accuracy: 0.8258 - lr: 1.0000e-04\n",
            "Learning rate: 0.0001\n",
            "Epoch 13/25\n",
            "147/147 [==============================] - 232s 2s/step - loss: 0.1767 - accuracy: 0.9449 - val_loss: 0.3510 - val_accuracy: 0.8361 - lr: 1.0000e-04\n",
            "Learning rate: 0.0001\n",
            "Epoch 14/25\n",
            "147/147 [==============================] - 226s 2s/step - loss: 0.1663 - accuracy: 0.9440 - val_loss: 0.5148 - val_accuracy: 0.8115 - lr: 1.0000e-04\n",
            "Learning rate: 0.0001\n",
            "Epoch 15/25\n",
            "147/147 [==============================] - 226s 2s/step - loss: 0.1565 - accuracy: 0.9504 - val_loss: 0.3509 - val_accuracy: 0.8299 - lr: 1.0000e-04\n",
            "Learning rate: 0.0001\n",
            "Epoch 16/25\n",
            "147/147 [==============================] - 227s 2s/step - loss: 0.1677 - accuracy: 0.9449 - val_loss: 0.4023 - val_accuracy: 0.8074 - lr: 1.0000e-04\n",
            "Learning rate: 0.0001\n",
            "Epoch 17/25\n",
            "147/147 [==============================] - 224s 2s/step - loss: 0.1650 - accuracy: 0.9445 - val_loss: 0.2734 - val_accuracy: 0.8893 - lr: 1.0000e-04\n",
            "Learning rate: 0.0001\n",
            "Epoch 18/25\n",
            "147/147 [==============================] - 224s 2s/step - loss: 0.1583 - accuracy: 0.9436 - val_loss: 0.3409 - val_accuracy: 0.8402 - lr: 1.0000e-04\n",
            "Learning rate: 0.0001\n",
            "Epoch 19/25\n",
            "147/147 [==============================] - 221s 1s/step - loss: 0.1499 - accuracy: 0.9527 - val_loss: 0.3489 - val_accuracy: 0.8422 - lr: 1.0000e-04\n",
            "Learning rate: 0.0001\n",
            "Epoch 20/25\n",
            "147/147 [==============================] - 218s 1s/step - loss: 0.1381 - accuracy: 0.9572 - val_loss: 0.4186 - val_accuracy: 0.7951 - lr: 1.0000e-04\n",
            "Learning rate: 0.0001\n",
            "Epoch 21/25\n",
            "147/147 [==============================] - 220s 1s/step - loss: 0.1559 - accuracy: 0.9472 - val_loss: 0.3765 - val_accuracy: 0.8525 - lr: 1.0000e-04\n",
            "Learning rate: 1e-05\n",
            "Epoch 22/25\n",
            "147/147 [==============================] - 218s 1s/step - loss: 0.1400 - accuracy: 0.9563 - val_loss: 0.3055 - val_accuracy: 0.8811 - lr: 1.0000e-05\n",
            "Learning rate: 1e-05\n",
            "Epoch 23/25\n",
            "147/147 [==============================] - 216s 1s/step - loss: 0.1241 - accuracy: 0.9668 - val_loss: 0.2925 - val_accuracy: 0.8955 - lr: 1.0000e-05\n",
            "Learning rate: 1e-05\n",
            "Epoch 24/25\n",
            "147/147 [==============================] - 216s 1s/step - loss: 0.1160 - accuracy: 0.9654 - val_loss: 0.2824 - val_accuracy: 0.8934 - lr: 1.0000e-05\n",
            "Learning rate: 1e-05\n",
            "Epoch 25/25\n",
            "147/147 [==============================] - 214s 1s/step - loss: 0.1140 - accuracy: 0.9672 - val_loss: 0.2861 - val_accuracy: 0.8955 - lr: 1.0000e-05\n"
          ]
        }
      ],
      "source": [
        "# training contenuis\n",
        "epcPart2 = epcPart1+15\n",
        "\n",
        "\n",
        "history2 = model.fit(all_train_generator,validation_data = all_valid_generator,epochs = epcPart2,\n",
        "          callbacks=[tensorboard_callback, lr_scheduler],initial_epoch= epcPart1)\n"
      ]
    },
    {
      "cell_type": "code",
      "execution_count": null,
      "metadata": {
        "colab": {
          "background_save": true
        },
        "id": "QrNsZKhrDkFO"
      },
      "outputs": [],
      "source": [
        "model.save('/content/drive/Othercomputers/Hp8570/GoogleDrive_Hp8570/2class-c-pn-m2-6-7.h5')"
      ]
    },
    {
      "cell_type": "code",
      "source": [
        "#temp code\n",
        "#\n",
        "#\n",
        "#\n",
        "epcPart2=25\n",
        "model = load_model('/content/drive/Othercomputers/Hp8570/GoogleDrive_Hp8570/2class-c-pn-m2-6-7.h5')\n",
        "\n",
        "#"
      ],
      "metadata": {
        "id": "eJ5X5MydMp15"
      },
      "execution_count": null,
      "outputs": []
    },
    {
      "cell_type": "code",
      "execution_count": null,
      "metadata": {
        "id": "tXjqhF7RDlYn",
        "colab": {
          "base_uri": "https://localhost:8080/"
        },
        "outputId": "b5f56b83-d3bf-4e87-ff4e-61aa173c010b"
      },
      "outputs": [
        {
          "output_type": "stream",
          "name": "stdout",
          "text": [
            "Learning rate: 1e-05\n",
            "Epoch 26/40\n",
            "147/147 [==============================] - 963s 6s/step - loss: 0.1241 - accuracy: 0.9650 - val_loss: 0.2825 - val_accuracy: 0.8893 - lr: 1.0000e-05\n",
            "Learning rate: 1e-05\n",
            "Epoch 27/40\n",
            "147/147 [==============================] - 191s 1s/step - loss: 0.1090 - accuracy: 0.9750 - val_loss: 0.2807 - val_accuracy: 0.8996 - lr: 1.0000e-05\n",
            "Learning rate: 1e-05\n",
            "Epoch 28/40\n",
            "147/147 [==============================] - 192s 1s/step - loss: 0.1104 - accuracy: 0.9677 - val_loss: 0.2959 - val_accuracy: 0.8791 - lr: 1.0000e-05\n",
            "Learning rate: 1e-05\n",
            "Epoch 29/40\n",
            "147/147 [==============================] - 193s 1s/step - loss: 0.1106 - accuracy: 0.9640 - val_loss: 0.3236 - val_accuracy: 0.8402 - lr: 1.0000e-05\n",
            "Learning rate: 1e-05\n",
            "Epoch 30/40\n",
            "147/147 [==============================] - 196s 1s/step - loss: 0.1078 - accuracy: 0.9645 - val_loss: 0.2892 - val_accuracy: 0.8873 - lr: 1.0000e-05\n",
            "Learning rate: 1e-05\n",
            "Epoch 31/40\n",
            "147/147 [==============================] - 194s 1s/step - loss: 0.1000 - accuracy: 0.9709 - val_loss: 0.2788 - val_accuracy: 0.8955 - lr: 1.0000e-05\n",
            "Learning rate: 1e-05\n",
            "Epoch 32/40\n",
            "147/147 [==============================] - 193s 1s/step - loss: 0.1081 - accuracy: 0.9695 - val_loss: 0.2629 - val_accuracy: 0.9078 - lr: 1.0000e-05\n",
            "Learning rate: 1e-05\n",
            "Epoch 33/40\n",
            "147/147 [==============================] - 194s 1s/step - loss: 0.1084 - accuracy: 0.9713 - val_loss: 0.2806 - val_accuracy: 0.8934 - lr: 1.0000e-05\n",
            "Learning rate: 1e-05\n",
            "Epoch 34/40\n",
            "147/147 [==============================] - 194s 1s/step - loss: 0.1037 - accuracy: 0.9718 - val_loss: 0.2623 - val_accuracy: 0.8996 - lr: 1.0000e-05\n",
            "Learning rate: 1e-05\n",
            "Epoch 35/40\n",
            "147/147 [==============================] - 195s 1s/step - loss: 0.1091 - accuracy: 0.9677 - val_loss: 0.2625 - val_accuracy: 0.9160 - lr: 1.0000e-05\n",
            "Learning rate: 1e-05\n",
            "Epoch 36/40\n",
            "147/147 [==============================] - 197s 1s/step - loss: 0.1055 - accuracy: 0.9718 - val_loss: 0.2922 - val_accuracy: 0.8873 - lr: 1.0000e-05\n",
            "Learning rate: 1e-05\n",
            "Epoch 37/40\n",
            "147/147 [==============================] - 194s 1s/step - loss: 0.0967 - accuracy: 0.9759 - val_loss: 0.2521 - val_accuracy: 0.9098 - lr: 1.0000e-05\n",
            "Learning rate: 1e-05\n",
            "Epoch 38/40\n",
            "147/147 [==============================] - 192s 1s/step - loss: 0.1015 - accuracy: 0.9731 - val_loss: 0.2694 - val_accuracy: 0.9098 - lr: 1.0000e-05\n",
            "Learning rate: 1e-05\n",
            "Epoch 39/40\n",
            "147/147 [==============================] - 189s 1s/step - loss: 0.0978 - accuracy: 0.9718 - val_loss: 0.2786 - val_accuracy: 0.8996 - lr: 1.0000e-05\n",
            "Learning rate: 1e-05\n",
            "Epoch 40/40\n",
            "147/147 [==============================] - 189s 1s/step - loss: 0.1057 - accuracy: 0.9672 - val_loss: 0.2647 - val_accuracy: 0.9078 - lr: 1.0000e-05\n",
            "Time taken by above cell in minutes is 62.927289779980974.\n"
          ]
        }
      ],
      "source": [
        "# training contenuis\n",
        "epcPart3 = epcPart2+15\n",
        "\n",
        "\n",
        "history3 = model.fit(all_train_generator,validation_data = all_valid_generator,epochs = epcPart3,\n",
        "          callbacks=[tensorboard_callback, lr_scheduler],initial_epoch= epcPart2)\n",
        "\n",
        "end = time.time()\n",
        "print(\"Time taken by above cell in minutes is {}.\".format((end-start)/60))\n"
      ]
    },
    {
      "cell_type": "markdown",
      "metadata": {
        "id": "OGDi8oDVbTvK"
      },
      "source": [
        "Saving Model"
      ]
    },
    {
      "cell_type": "code",
      "execution_count": 23,
      "metadata": {
        "id": "PC8zkhoTbNzK"
      },
      "outputs": [],
      "source": [
        "model.save('/content/drive/Othercomputers/Hp8570/GoogleDrive_Hp8570/2class-c-pn-m2-6-7.h5')"
      ]
    },
    {
      "cell_type": "markdown",
      "metadata": {
        "id": "WkOyHSL0heJ_"
      },
      "source": [
        "test"
      ]
    },
    {
      "cell_type": "code",
      "execution_count": 24,
      "metadata": {
        "id": "JHaXJGyvhfdf",
        "colab": {
          "base_uri": "https://localhost:8080/"
        },
        "outputId": "525d3379-41eb-44ac-b5e7-db2278e1e28c"
      },
      "outputs": [
        {
          "output_type": "stream",
          "name": "stdout",
          "text": [
            "33/33 [==============================] - 8s 229ms/step - loss: 0.2647 - accuracy: 0.9078\n",
            "validation loss: 0.26473474502563477\n",
            "validation accuracy: 0.9077869057655334\n"
          ]
        }
      ],
      "source": [
        "\n",
        "# evaluation\n",
        "val_scores = model.evaluate_generator(all_valid_generator, verbose=1)\n",
        "print('validation loss:', val_scores[0])\n",
        "print('validation accuracy:', val_scores[1])\n"
      ]
    },
    {
      "cell_type": "markdown",
      "metadata": {
        "id": "7mrn1bYkbbhs"
      },
      "source": [
        "Plotting"
      ]
    },
    {
      "cell_type": "code",
      "execution_count": 25,
      "metadata": {
        "id": "jTsf7L82bdJC",
        "colab": {
          "base_uri": "https://localhost:8080/",
          "height": 236
        },
        "outputId": "80bbe272-6b23-482c-f917-48449b516241"
      },
      "outputs": [
        {
          "output_type": "error",
          "ename": "NameError",
          "evalue": "ignored",
          "traceback": [
            "\u001b[0;31m---------------------------------------------------------------------------\u001b[0m",
            "\u001b[0;31mNameError\u001b[0m                                 Traceback (most recent call last)",
            "\u001b[0;32m<ipython-input-25-aa1ebfccf402>\u001b[0m in \u001b[0;36m<cell line: 1>\u001b[0;34m()\u001b[0m\n\u001b[0;32m----> 1\u001b[0;31m \u001b[0mhistoryX\u001b[0m\u001b[0;34m=\u001b[0m \u001b[0mhistory\u001b[0m \u001b[0;34m+\u001b[0m \u001b[0mhistory2\u001b[0m\u001b[0;34m+\u001b[0m\u001b[0mhistory3\u001b[0m\u001b[0;34m\u001b[0m\u001b[0;34m\u001b[0m\u001b[0m\n\u001b[0m\u001b[1;32m      2\u001b[0m \u001b[0;34m\u001b[0m\u001b[0m\n\u001b[1;32m      3\u001b[0m \u001b[0mfig\u001b[0m\u001b[0;34m,\u001b[0m \u001b[0;34m(\u001b[0m\u001b[0max1\u001b[0m\u001b[0;34m,\u001b[0m \u001b[0max2\u001b[0m\u001b[0;34m)\u001b[0m \u001b[0;34m=\u001b[0m \u001b[0mplt\u001b[0m\u001b[0;34m.\u001b[0m\u001b[0msubplots\u001b[0m\u001b[0;34m(\u001b[0m\u001b[0;36m2\u001b[0m\u001b[0;34m,\u001b[0m \u001b[0;36m1\u001b[0m\u001b[0;34m,\u001b[0m \u001b[0mfigsize\u001b[0m\u001b[0;34m=\u001b[0m\u001b[0;34m(\u001b[0m\u001b[0;36m12\u001b[0m\u001b[0;34m,\u001b[0m \u001b[0;36m12\u001b[0m\u001b[0;34m)\u001b[0m\u001b[0;34m)\u001b[0m\u001b[0;34m\u001b[0m\u001b[0;34m\u001b[0m\u001b[0m\n\u001b[1;32m      4\u001b[0m \u001b[0max1\u001b[0m\u001b[0;34m.\u001b[0m\u001b[0mplot\u001b[0m\u001b[0;34m(\u001b[0m\u001b[0mhistoryX\u001b[0m\u001b[0;34m.\u001b[0m\u001b[0mhistory\u001b[0m\u001b[0;34m[\u001b[0m\u001b[0;34m'loss'\u001b[0m\u001b[0;34m]\u001b[0m\u001b[0;34m,\u001b[0m \u001b[0mcolor\u001b[0m\u001b[0;34m=\u001b[0m\u001b[0;34m'b'\u001b[0m\u001b[0;34m,\u001b[0m \u001b[0mlabel\u001b[0m\u001b[0;34m=\u001b[0m\u001b[0;34m\"Training loss\"\u001b[0m\u001b[0;34m)\u001b[0m\u001b[0;34m\u001b[0m\u001b[0;34m\u001b[0m\u001b[0m\n\u001b[1;32m      5\u001b[0m \u001b[0max1\u001b[0m\u001b[0;34m.\u001b[0m\u001b[0mplot\u001b[0m\u001b[0;34m(\u001b[0m\u001b[0mhistoryX\u001b[0m\u001b[0;34m.\u001b[0m\u001b[0mhistory\u001b[0m\u001b[0;34m[\u001b[0m\u001b[0;34m'val_loss'\u001b[0m\u001b[0;34m]\u001b[0m\u001b[0;34m,\u001b[0m \u001b[0mcolor\u001b[0m\u001b[0;34m=\u001b[0m\u001b[0;34m'r'\u001b[0m\u001b[0;34m,\u001b[0m \u001b[0mlabel\u001b[0m\u001b[0;34m=\u001b[0m\u001b[0;34m\"validation loss\"\u001b[0m\u001b[0;34m)\u001b[0m\u001b[0;34m\u001b[0m\u001b[0;34m\u001b[0m\u001b[0m\n",
            "\u001b[0;31mNameError\u001b[0m: name 'history' is not defined"
          ]
        }
      ],
      "source": [
        "historyX= history + history2+history3\n",
        "\n",
        "fig, (ax1, ax2) = plt.subplots(2, 1, figsize=(12, 12))\n",
        "ax1.plot(historyX.history['loss'], color='b', label=\"Training loss\")\n",
        "ax1.plot(historyX.history['val_loss'], color='r', label=\"validation loss\")\n",
        "ax1.set_xticks(np.arange(1, epcPart3, 1))\n",
        "ax1.set_yticks(np.arange(0, 1, 0.1))\n",
        "\n",
        "ax2.plot(historyX.history['accuracy'], color='b', label=\"Training accuracy\")\n",
        "ax2.plot(historyX.history['val_accuracy'], color='r',label=\"Validation accuracy\")\n",
        "ax2.set_xticks(np.arange(1, epcPart3, 1))\n",
        "\n",
        "legend = plt.legend(loc='best', shadow=True)\n",
        "plt.tight_layout()\n",
        "plt.show()\n"
      ]
    },
    {
      "cell_type": "markdown",
      "metadata": {
        "id": "j6BiDC9Pm5PS"
      },
      "source": [
        "9-Performance Analysis\n"
      ]
    },
    {
      "cell_type": "code",
      "execution_count": null,
      "metadata": {
        "id": "kaerE17Mnesw"
      },
      "outputs": [],
      "source": [
        "%load_ext tensorboard\n",
        "%tensorboard --logdir Logs/\n"
      ]
    },
    {
      "cell_type": "markdown",
      "metadata": {
        "id": "b3zUt0Yfbnuj"
      },
      "source": [
        "Model Testing"
      ]
    },
    {
      "cell_type": "code",
      "execution_count": null,
      "metadata": {
        "id": "w8hwmMMrbpgV"
      },
      "outputs": [],
      "source": [
        "sample = random.choice(df_all_vld['filename'])\n",
        "\n",
        "fileLastname = sample.split('/')[-1:][0]\n",
        "category = fileLastname.split('-')[0]\n",
        "true = ''\n",
        "if category == 'COVID':\n",
        "    true = 'COVID'\n",
        "elif category == 'Viral Pneumonia':\n",
        "    true = 'Viral Pneumonia'\n",
        "elif category == 'Normal':\n",
        "    true = 'Normal'\n",
        "\n",
        "print(f'True value is : {true}')\n",
        "\n",
        "image = load_img(sample, target_size=(512, 512))\n",
        "img = img_to_array(image)\n",
        "img = img.reshape((1, 512, 512, 3))\n",
        "img=img.astype('float32')/ 255.0\n",
        "\n",
        "result = model.predict(img)\n",
        "print(result)\n",
        "result = np.argmax(result, axis=-1)\n",
        "print('Prediction is:')\n",
        "if result == 2:\n",
        "    print(\"Viral Pneumonia+ Normal\")\n",
        "\n",
        "elif result == 0:\n",
        "    print(\"COVID +\", result)\n",
        "else:\n",
        "  print(\"none\")\n",
        "plt.imshow(image)\n"
      ]
    }
  ],
  "metadata": {
    "accelerator": "GPU",
    "colab": {
      "provenance": [],
      "mount_file_id": "1OEdiL-_f-i-1MGK0K8mXEpJfJXd2Kn2H",
      "authorship_tag": "ABX9TyOne/QZ+lOk32lKQdLLb9cA",
      "include_colab_link": true
    },
    "kernelspec": {
      "display_name": "Python 3",
      "name": "python3"
    },
    "language_info": {
      "name": "python"
    }
  },
  "nbformat": 4,
  "nbformat_minor": 0
}